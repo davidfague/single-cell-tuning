{
  "nbformat": 4,
  "nbformat_minor": 0,
  "metadata": {
    "colab": {
      "provenance": [],
      "authorship_tag": "ABX9TyNTvTleGU0Yi1ZGeJbgn0YI",
      "include_colab_link": true
    },
    "kernelspec": {
      "name": "python3",
      "display_name": "Python 3"
    },
    "language_info": {
      "name": "python"
    }
  },
  "cells": [
    {
      "cell_type": "markdown",
      "metadata": {
        "id": "view-in-github",
        "colab_type": "text"
      },
      "source": [
        "<a href=\"https://colab.research.google.com/github/davidfague/single-cell-tuning/blob/main/tuning_SST_PV.ipynb\" target=\"_parent\"><img src=\"https://colab.research.google.com/assets/colab-badge.svg\" alt=\"Open In Colab\"/></a>"
      ]
    },
    {
      "cell_type": "code",
      "source": [
        "!git clone https://github.com/davidfague/single-cell-tuning.git"
      ],
      "metadata": {
        "colab": {
          "base_uri": "https://localhost:8080/"
        },
        "id": "97iNgf-VLFm_",
        "outputId": "5e66331a-0f47-46c6-96f5-03d7e421683f"
      },
      "execution_count": 1,
      "outputs": [
        {
          "output_type": "stream",
          "name": "stdout",
          "text": [
            "Cloning into 'single-cell-tuning'...\n",
            "remote: Enumerating objects: 107, done.\u001b[K\n",
            "remote: Counting objects: 100% (107/107), done.\u001b[K\n",
            "remote: Compressing objects: 100% (98/98), done.\u001b[K\n",
            "remote: Total 107 (delta 52), reused 21 (delta 8), pack-reused 0 (from 0)\u001b[K\n",
            "Receiving objects: 100% (107/107), 459.36 KiB | 5.22 MiB/s, done.\n",
            "Resolving deltas: 100% (52/52), done.\n"
          ]
        }
      ]
    },
    {
      "cell_type": "code",
      "execution_count": 2,
      "metadata": {
        "colab": {
          "base_uri": "https://localhost:8080/"
        },
        "id": "S56MHBeYKwgG",
        "outputId": "41245f46-74dc-4324-aa01-d4334f0a60dd"
      },
      "outputs": [
        {
          "output_type": "stream",
          "name": "stdout",
          "text": [
            "Requirement already satisfied: pip in /usr/local/lib/python3.11/dist-packages (24.1.2)\n",
            "Collecting pip\n",
            "  Downloading pip-25.0.1-py3-none-any.whl.metadata (3.7 kB)\n",
            "Downloading pip-25.0.1-py3-none-any.whl (1.8 MB)\n",
            "\u001b[2K   \u001b[90m━━━━━━━━━━━━━━━━━━━━━━━━━━━━━━━━━━━━━━━━\u001b[0m \u001b[32m1.8/1.8 MB\u001b[0m \u001b[31m13.7 MB/s\u001b[0m eta \u001b[36m0:00:00\u001b[0m\n",
            "\u001b[?25hInstalling collected packages: pip\n",
            "  Attempting uninstall: pip\n",
            "    Found existing installation: pip 24.1.2\n",
            "    Uninstalling pip-24.1.2:\n",
            "      Successfully uninstalled pip-24.1.2\n",
            "Successfully installed pip-25.0.1\n",
            "  Installing build dependencies ... \u001b[?25l\u001b[?25hdone\n",
            "  Getting requirements to build wheel ... \u001b[?25l\u001b[?25hdone\n",
            "  Preparing metadata (pyproject.toml) ... \u001b[?25l\u001b[?25hdone\n",
            "\u001b[2K   \u001b[90m━━━━━━━━━━━━━━━━━━━━━━━━━━━━━━━━━━━━━━━━\u001b[0m \u001b[32m3.1/3.1 MB\u001b[0m \u001b[31m37.4 MB/s\u001b[0m eta \u001b[36m0:00:00\u001b[0m\n",
            "\u001b[2K   \u001b[90m━━━━━━━━━━━━━━━━━━━━━━━━━━━━━━━━━━━━━━━━\u001b[0m \u001b[32m12.0/12.0 MB\u001b[0m \u001b[31m83.2 MB/s\u001b[0m eta \u001b[36m0:00:00\u001b[0m\n",
            "\u001b[2K   \u001b[90m━━━━━━━━━━━━━━━━━━━━━━━━━━━━━━━━━━━━━━━━\u001b[0m \u001b[32m15.2/15.2 MB\u001b[0m \u001b[31m71.3 MB/s\u001b[0m eta \u001b[36m0:00:00\u001b[0m\n",
            "\u001b[2K   \u001b[90m━━━━━━━━━━━━━━━━━━━━━━━━━━━━━━━━━━━━━━━━\u001b[0m \u001b[32m17.1/17.1 MB\u001b[0m \u001b[31m71.4 MB/s\u001b[0m eta \u001b[36m0:00:00\u001b[0m\n",
            "\u001b[2K   \u001b[90m━━━━━━━━━━━━━━━━━━━━━━━━━━━━━━━━━━━━━━━━\u001b[0m \u001b[32m34.1/34.1 MB\u001b[0m \u001b[31m46.1 MB/s\u001b[0m eta \u001b[36m0:00:00\u001b[0m\n",
            "\u001b[2K   \u001b[90m━━━━━━━━━━━━━━━━━━━━━━━━━━━━━━━━━━━━━━━━\u001b[0m \u001b[32m973.1/973.1 kB\u001b[0m \u001b[31m33.4 MB/s\u001b[0m eta \u001b[36m0:00:00\u001b[0m\n",
            "\u001b[2K   \u001b[90m━━━━━━━━━━━━━━━━━━━━━━━━━━━━━━━━━━━━━━━━\u001b[0m \u001b[32m2.7/2.7 MB\u001b[0m \u001b[31m78.5 MB/s\u001b[0m eta \u001b[36m0:00:00\u001b[0m\n",
            "\u001b[2K   \u001b[90m━━━━━━━━━━━━━━━━━━━━━━━━━━━━━━━━━━━━━━━━\u001b[0m \u001b[32m1.4/1.4 MB\u001b[0m \u001b[31m46.3 MB/s\u001b[0m eta \u001b[36m0:00:00\u001b[0m\n",
            "\u001b[2K   \u001b[90m━━━━━━━━━━━━━━━━━━━━━━━━━━━━━━━━━━━━━━━━\u001b[0m \u001b[32m3.0/3.0 MB\u001b[0m \u001b[31m70.3 MB/s\u001b[0m eta \u001b[36m0:00:00\u001b[0m\n",
            "\u001b[2K   \u001b[90m━━━━━━━━━━━━━━━━━━━━━━━━━━━━━━━━━━━━━━━━\u001b[0m \u001b[32m14.9/14.9 MB\u001b[0m \u001b[31m118.7 MB/s\u001b[0m eta \u001b[36m0:00:00\u001b[0m\n",
            "\u001b[2K   \u001b[90m━━━━━━━━━━━━━━━━━━━━━━━━━━━━━━━━━━━━━━━━\u001b[0m \u001b[32m52.3/52.3 MB\u001b[0m \u001b[31m42.4 MB/s\u001b[0m eta \u001b[36m0:00:00\u001b[0m\n",
            "\u001b[2K   \u001b[90m━━━━━━━━━━━━━━━━━━━━━━━━━━━━━━━━━━━━━━━━\u001b[0m \u001b[32m4.4/4.4 MB\u001b[0m \u001b[31m94.8 MB/s\u001b[0m eta \u001b[36m0:00:00\u001b[0m\n",
            "\u001b[2K   \u001b[90m━━━━━━━━━━━━━━━━━━━━━━━━━━━━━━━━━━━━━━━━\u001b[0m \u001b[32m13.4/13.4 MB\u001b[0m \u001b[31m135.6 MB/s\u001b[0m eta \u001b[36m0:00:00\u001b[0m\n",
            "\u001b[2K   \u001b[90m━━━━━━━━━━━━━━━━━━━━━━━━━━━━━━━━━━━━━━━━\u001b[0m \u001b[32m739.1/739.1 kB\u001b[0m \u001b[31m25.2 MB/s\u001b[0m eta \u001b[36m0:00:00\u001b[0m\n",
            "\u001b[?25h  Building wheel for argschema (pyproject.toml) ... \u001b[?25l\u001b[?25hdone\n",
            "\u001b[31mERROR: pip's dependency resolver does not currently take into account all the packages that are installed. This behaviour is the source of the following dependency conflicts.\n",
            "google-colab 1.0.0 requires pandas==2.2.2, but you have pandas 1.5.3 which is incompatible.\n",
            "albumentations 2.0.4 requires numpy>=1.24.4, but you have numpy 1.23.5 which is incompatible.\n",
            "tensorflow 2.18.0 requires numpy<2.1.0,>=1.26.0, but you have numpy 1.23.5 which is incompatible.\n",
            "mizani 0.13.1 requires pandas>=2.2.0, but you have pandas 1.5.3 which is incompatible.\n",
            "jaxlib 0.4.33 requires numpy>=1.24, but you have numpy 1.23.5 which is incompatible.\n",
            "numba 0.61.0 requires numpy<2.2,>=1.24, but you have numpy 1.23.5 which is incompatible.\n",
            "imbalanced-learn 0.13.0 requires numpy<3,>=1.24.3, but you have numpy 1.23.5 which is incompatible.\n",
            "bigframes 1.37.0 requires numpy>=1.24.0, but you have numpy 1.23.5 which is incompatible.\n",
            "langchain 0.3.19 requires numpy<2,>=1.26.4; python_version < \"3.12\", but you have numpy 1.23.5 which is incompatible.\n",
            "treescope 0.1.9 requires numpy>=1.25.2, but you have numpy 1.23.5 which is incompatible.\n",
            "jax 0.4.33 requires numpy>=1.24, but you have numpy 1.23.5 which is incompatible.\n",
            "cudf-cu12 24.12.0 requires pandas<2.2.4dev0,>=2.0, but you have pandas 1.5.3 which is incompatible.\n",
            "pymc 5.20.1 requires numpy>=1.25.0, but you have numpy 1.23.5 which is incompatible.\n",
            "chex 0.1.88 requires numpy>=1.24.1, but you have numpy 1.23.5 which is incompatible.\n",
            "plotnine 0.14.5 requires pandas>=2.2.0, but you have pandas 1.5.3 which is incompatible.\n",
            "albucore 0.0.23 requires numpy>=1.24.4, but you have numpy 1.23.5 which is incompatible.\u001b[0m\u001b[31m\n",
            "\u001b[0m"
          ]
        }
      ],
      "source": [
        "!pip install --upgrade pip\n",
        "!pip install --quiet allensdk neuron"
      ]
    },
    {
      "cell_type": "code",
      "source": [
        "from allensdk.api.queries.biophysical_api import BiophysicalApi\n",
        "from allensdk.model.biophys_sim.config import Config\n",
        "from allensdk.model.biophysical.utils import Utils\n",
        "import sys\n",
        "\n",
        "import matplotlib.pyplot as plt"
      ],
      "metadata": {
        "id": "x87Vp071K2pO"
      },
      "execution_count": 3,
      "outputs": []
    },
    {
      "cell_type": "code",
      "source": [
        "bp = BiophysicalApi()\n",
        "\n",
        "# PV is from: https://celltypes.brain-map.org/experiment/electrophysiology/484635029\n",
        "# SST is from: https://celltypes.brain-map.org/experiment/electrophysiology/476686112\n",
        "\n",
        "cell_to_use = 'SST'\n",
        "\n",
        "if cell_to_use == 'SST':\n",
        "    query = bp.get_neuronal_models(476686112)\n",
        "    id_to_use = query[0]['id']\n",
        "elif cell_to_use =='PV':\n",
        "    query = bp.get_neuronal_models(484635029)\n",
        "    id_to_use = query[0]['id']\n",
        "\n",
        "print(query)"
      ],
      "metadata": {
        "colab": {
          "base_uri": "https://localhost:8080/"
        },
        "id": "HrQPLczHK4yG",
        "outputId": "aa1f7307-2f66-4c90-95eb-49fca9344cc6"
      },
      "execution_count": 4,
      "outputs": [
        {
          "output_type": "stream",
          "name": "stdout",
          "text": [
            "[{'id': 477878284, 'name': 'Biophysical - perisomatic_Sst-IRES-Cre;Ai14-188740.03.02.01', 'neuron_reconstruction_id': 491119369, 'neuronal_model_template_id': 329230710, 'specimen_id': 476686112}, {'id': 497232660, 'name': 'Biophysical - all active_Sst-IRES-Cre;Ai14-188740.03.02.01', 'neuron_reconstruction_id': 491119369, 'neuronal_model_template_id': 491455321, 'specimen_id': 476686112}]\n"
          ]
        }
      ]
    },
    {
      "cell_type": "code",
      "source": [
        "bp.cache_stimulus = False # Change to False to not download the large stimulus NWB file\n",
        "bp.cache_data(id_to_use) # 'id'"
      ],
      "metadata": {
        "colab": {
          "base_uri": "https://localhost:8080/"
        },
        "id": "dbxFz9tKLjpr",
        "outputId": "20f0dbff-639b-4d82-ac55-d7adab4d1279"
      },
      "execution_count": 5,
      "outputs": [
        {
          "output_type": "stream",
          "name": "stderr",
          "text": [
            "2025-02-21 20:31:33,189 allensdk.api.api.retrieve_file_over_http INFO     Downloading URL: http://api.brain-map.org/api/v2/well_known_file_download/657210401\n",
            "INFO:allensdk.api.api.retrieve_file_over_http:Downloading URL: http://api.brain-map.org/api/v2/well_known_file_download/657210401\n",
            "2025-02-21 20:31:36,773 allensdk.api.api.retrieve_file_over_http INFO     Downloading URL: http://api.brain-map.org/api/v2/well_known_file_download/657210404\n",
            "INFO:allensdk.api.api.retrieve_file_over_http:Downloading URL: http://api.brain-map.org/api/v2/well_known_file_download/657210404\n",
            "2025-02-21 20:31:36,992 allensdk.api.api.retrieve_file_over_http INFO     Downloading URL: http://api.brain-map.org/api/v2/well_known_file_download/395337293\n",
            "INFO:allensdk.api.api.retrieve_file_over_http:Downloading URL: http://api.brain-map.org/api/v2/well_known_file_download/395337293\n",
            "2025-02-21 20:31:37,156 allensdk.api.api.retrieve_file_over_http INFO     Downloading URL: http://api.brain-map.org/api/v2/well_known_file_download/395337054\n",
            "INFO:allensdk.api.api.retrieve_file_over_http:Downloading URL: http://api.brain-map.org/api/v2/well_known_file_download/395337054\n",
            "2025-02-21 20:31:37,319 allensdk.api.api.retrieve_file_over_http INFO     Downloading URL: http://api.brain-map.org/api/v2/well_known_file_download/395337225\n",
            "INFO:allensdk.api.api.retrieve_file_over_http:Downloading URL: http://api.brain-map.org/api/v2/well_known_file_download/395337225\n",
            "2025-02-21 20:31:37,486 allensdk.api.api.retrieve_file_over_http INFO     Downloading URL: http://api.brain-map.org/api/v2/well_known_file_download/395337019\n",
            "INFO:allensdk.api.api.retrieve_file_over_http:Downloading URL: http://api.brain-map.org/api/v2/well_known_file_download/395337019\n",
            "2025-02-21 20:31:37,650 allensdk.api.api.retrieve_file_over_http INFO     Downloading URL: http://api.brain-map.org/api/v2/well_known_file_download/395337003\n",
            "INFO:allensdk.api.api.retrieve_file_over_http:Downloading URL: http://api.brain-map.org/api/v2/well_known_file_download/395337003\n",
            "2025-02-21 20:31:37,808 allensdk.api.api.retrieve_file_over_http INFO     Downloading URL: http://api.brain-map.org/api/v2/well_known_file_download/395337050\n",
            "INFO:allensdk.api.api.retrieve_file_over_http:Downloading URL: http://api.brain-map.org/api/v2/well_known_file_download/395337050\n",
            "2025-02-21 20:31:37,964 allensdk.api.api.retrieve_file_over_http INFO     Downloading URL: http://api.brain-map.org/api/v2/well_known_file_download/395337042\n",
            "INFO:allensdk.api.api.retrieve_file_over_http:Downloading URL: http://api.brain-map.org/api/v2/well_known_file_download/395337042\n",
            "2025-02-21 20:31:38,126 allensdk.api.api.retrieve_file_over_http INFO     Downloading URL: http://api.brain-map.org/api/v2/well_known_file_download/395337011\n",
            "INFO:allensdk.api.api.retrieve_file_over_http:Downloading URL: http://api.brain-map.org/api/v2/well_known_file_download/395337011\n",
            "2025-02-21 20:31:38,288 allensdk.api.api.retrieve_file_over_http INFO     Downloading URL: http://api.brain-map.org/api/v2/well_known_file_download/395337046\n",
            "INFO:allensdk.api.api.retrieve_file_over_http:Downloading URL: http://api.brain-map.org/api/v2/well_known_file_download/395337046\n",
            "2025-02-21 20:31:38,448 allensdk.api.api.retrieve_file_over_http INFO     Downloading URL: http://api.brain-map.org/api/v2/well_known_file_download/395337015\n",
            "INFO:allensdk.api.api.retrieve_file_over_http:Downloading URL: http://api.brain-map.org/api/v2/well_known_file_download/395337015\n",
            "2025-02-21 20:31:38,609 allensdk.api.api.retrieve_file_over_http INFO     Downloading URL: http://api.brain-map.org/api/v2/well_known_file_download/395337066\n",
            "INFO:allensdk.api.api.retrieve_file_over_http:Downloading URL: http://api.brain-map.org/api/v2/well_known_file_download/395337066\n",
            "2025-02-21 20:31:38,766 allensdk.api.api.retrieve_file_over_http INFO     Downloading URL: http://api.brain-map.org/api/v2/well_known_file_download/464138096\n",
            "INFO:allensdk.api.api.retrieve_file_over_http:Downloading URL: http://api.brain-map.org/api/v2/well_known_file_download/464138096\n",
            "2025-02-21 20:31:38,928 allensdk.api.api.retrieve_file_over_http INFO     Downloading URL: http://api.brain-map.org/api/v2/well_known_file_download/395337007\n",
            "INFO:allensdk.api.api.retrieve_file_over_http:Downloading URL: http://api.brain-map.org/api/v2/well_known_file_download/395337007\n",
            "2025-02-21 20:31:39,087 allensdk.api.api.retrieve_file_over_http INFO     Downloading URL: http://api.brain-map.org/api/v2/well_known_file_download/395337062\n",
            "INFO:allensdk.api.api.retrieve_file_over_http:Downloading URL: http://api.brain-map.org/api/v2/well_known_file_download/395337062\n",
            "2025-02-21 20:31:39,248 allensdk.api.api.retrieve_file_over_http INFO     Downloading URL: http://api.brain-map.org/api/v2/well_known_file_download/491113425\n",
            "INFO:allensdk.api.api.retrieve_file_over_http:Downloading URL: http://api.brain-map.org/api/v2/well_known_file_download/491113425\n",
            "2025-02-21 20:31:39,412 allensdk.api.api.retrieve_file_over_http INFO     Downloading URL: http://api.brain-map.org/api/v2/well_known_file_download/395337070\n",
            "INFO:allensdk.api.api.retrieve_file_over_http:Downloading URL: http://api.brain-map.org/api/v2/well_known_file_download/395337070\n",
            "2025-02-21 20:31:39,576 allensdk.api.api.retrieve_file_over_http INFO     Downloading URL: http://api.brain-map.org/api/v2/well_known_file_download/497236694\n",
            "INFO:allensdk.api.api.retrieve_file_over_http:Downloading URL: http://api.brain-map.org/api/v2/well_known_file_download/497236694\n"
          ]
        }
      ]
    },
    {
      "cell_type": "code",
      "source": [
        "# Compile the modfiles\n",
        "!nrnivmodl modfiles\n",
        "\n",
        "# Create the h object\n",
        "description = Config().load('manifest.json')\n",
        "utils = Utils(description)\n",
        "\n",
        "# convert 'values' from string to float\n",
        "for dict in utils.description.data['genome']:\n",
        "  for key,item in dict.items():\n",
        "    if key == 'value':\n",
        "      dict[key] = float(item)\n",
        "\n",
        "h = utils.h"
      ],
      "metadata": {
        "colab": {
          "base_uri": "https://localhost:8080/"
        },
        "id": "N9njMJwfL50i",
        "outputId": "1be826fe-5e11-4443-bb05-d4b16d7334b3"
      },
      "execution_count": 6,
      "outputs": [
        {
          "output_type": "stream",
          "name": "stdout",
          "text": [
            "/usr/local/bin/nrnivmodl:10: DeprecationWarning: pkg_resources is deprecated as an API. See https://setuptools.pypa.io/en/latest/pkg_resources.html\n",
            "  from pkg_resources import working_set\n",
            "/content\n",
            "Mod files: \"modfiles/modfiles/CaDynamics.mod\" \"modfiles/modfiles/Ca_HVA.mod\" \"modfiles/modfiles/Ca_LVA.mod\" \"modfiles/modfiles/Ih.mod\" \"modfiles/modfiles/Im.mod\" \"modfiles/modfiles/Im_v2.mod\" \"modfiles/modfiles/Kd.mod\" \"modfiles/modfiles/K_P.mod\" \"modfiles/modfiles/K_T.mod\" \"modfiles/modfiles/Kv2like.mod\" \"modfiles/modfiles/Kv3_1.mod\" \"modfiles/modfiles/Nap.mod\" \"modfiles/modfiles/NaTa.mod\" \"modfiles/modfiles/NaTs.mod\" \"modfiles/modfiles/NaV.mod\" \"modfiles/modfiles/SK.mod\"\n",
            "\n",
            "Creating 'x86_64' directory for .o files.\n",
            "\n",
            " -> \u001b[32mNMODL\u001b[0m ../modfiles/CaDynamics.mod\n",
            " -> \u001b[32mNMODL\u001b[0m ../modfiles/Ca_HVA.mod\n",
            " -> \u001b[32mNMODL\u001b[0m ../modfiles/Ca_LVA.mod\n",
            " -> \u001b[32mCompiling\u001b[0m mod_func.cpp\n",
            "Translating CaDynamics.mod into /content/x86_64/CaDynamics.c\n",
            "Thread Safe\n",
            " -> \u001b[32mNMODL\u001b[0m ../modfiles/Ih.mod\n",
            "Translating Ca_HVA.mod into /content/x86_64/Ca_HVA.c\n",
            "Thread Safe\n",
            "Translating Ca_LVA.mod into /content/x86_64/Ca_LVA.c\n",
            " -> \u001b[32mNMODL\u001b[0m ../modfiles/Im.mod\n",
            "Thread Safe\n",
            " -> \u001b[32mNMODL\u001b[0m ../modfiles/Im_v2.mod\n",
            "Translating Ih.mod into /content/x86_64/Ih.c\n",
            "Thread Safe\n",
            "Translating Im.mod into /content/x86_64/Im.c\n",
            "Thread Safe\n",
            " -> \u001b[32mNMODL\u001b[0m ../modfiles/Kd.mod\n",
            "Translating Im_v2.mod into /content/x86_64/Im_v2.c\n",
            " -> \u001b[32mNMODL\u001b[0m ../modfiles/K_P.mod\n",
            "Thread Safe\n",
            " -> \u001b[32mNMODL\u001b[0m ../modfiles/K_T.mod\n",
            "Translating Kd.mod into /content/x86_64/Kd.c\n",
            "Thread Safe\n",
            "Translating K_P.mod into /content/x86_64/K_P.c\n",
            "Thread Safe\n",
            "Translating K_T.mod into /content/x86_64/K_T.c\n",
            " -> \u001b[32mNMODL\u001b[0m ../modfiles/Kv2like.mod\n",
            " -> \u001b[32mNMODL\u001b[0m ../modfiles/Kv3_1.mod\n",
            "Thread Safe\n",
            " -> \u001b[32mNMODL\u001b[0m ../modfiles/Nap.mod\n",
            "Translating Kv2like.mod into /content/x86_64/Kv2like.c\n",
            "Translating Nap.mod into /content/x86_64/Nap.c\n",
            "Thread Safe\n",
            "Thread Safe\n",
            "Translating Kv3_1.mod into /content/x86_64/Kv3_1.c\n",
            " -> \u001b[32mNMODL\u001b[0m ../modfiles/NaTa.mod\n",
            "Thread Safe\n",
            " -> \u001b[32mNMODL\u001b[0m ../modfiles/NaTs.mod\n",
            " -> \u001b[32mNMODL\u001b[0m ../modfiles/NaV.mod\n",
            "Translating NaTa.mod into /content/x86_64/NaTa.c\n",
            "Thread Safe\n",
            "Translating NaTs.mod into /content/x86_64/NaTs.c\n",
            "Thread Safe\n",
            "Translating NaV.mod into /content/x86_64/NaV.c\n",
            " -> \u001b[32mNMODL\u001b[0m ../modfiles/SK.mod\n",
            "NEURON's CVode method ignores conservation\n",
            " -> \u001b[32mCompiling\u001b[0m CaDynamics.c\n",
            "Notice: LINEAR is not thread safe.\n",
            " -> \u001b[32mCompiling\u001b[0m Ca_HVA.c\n",
            "Translating SK.mod into /content/x86_64/SK.c\n",
            "Thread Safe\n",
            " -> \u001b[32mCompiling\u001b[0m Ca_LVA.c\n",
            " -> \u001b[32mCompiling\u001b[0m Ih.c\n",
            " -> \u001b[32mCompiling\u001b[0m Im.c\n",
            " -> \u001b[32mCompiling\u001b[0m Im_v2.c\n",
            " -> \u001b[32mCompiling\u001b[0m Kd.c\n",
            " -> \u001b[32mCompiling\u001b[0m K_P.c\n",
            " -> \u001b[32mCompiling\u001b[0m K_T.c\n",
            " -> \u001b[32mCompiling\u001b[0m Kv2like.c\n",
            " -> \u001b[32mCompiling\u001b[0m Kv3_1.c\n",
            " -> \u001b[32mCompiling\u001b[0m Nap.c\n",
            " -> \u001b[32mCompiling\u001b[0m NaTa.c\n",
            " -> \u001b[32mCompiling\u001b[0m NaTs.c\n",
            " -> \u001b[32mCompiling\u001b[0m NaV.c\n",
            " -> \u001b[32mCompiling\u001b[0m SK.c\n",
            " => \u001b[32mLINKING\u001b[0m shared library ./libnrnmech.so\n",
            " => \u001b[32mLINKING\u001b[0m executable ./special LDFLAGS are:    -pthread\n",
            "Successfully created x86_64/special\n"
          ]
        }
      ]
    },
    {
      "cell_type": "code",
      "source": [
        "# Configure morphology\n",
        "manifest = description.manifest\n",
        "morphology_path = description.manifest.get_path('MORPHOLOGY')\n",
        "utils.generate_morphology(morphology_path.encode('ascii', 'ignore'))"
      ],
      "metadata": {
        "colab": {
          "base_uri": "https://localhost:8080/"
        },
        "id": "IgqlBqonMGfS",
        "outputId": "11ce3e36-4eec-4bfb-a58b-2addc2ff3749"
      },
      "execution_count": 7,
      "outputs": [
        {
          "output_type": "stream",
          "name": "stdout",
          "text": [
            "warning ./Sst-IRES-Cre_Ai14-188740.03.02.01_657210399_m.swc: more than one tree:\n",
            "  root at line 4\n",
            "  root at line 14504\n",
            "  root at line 14725\n",
            "  root at line 14798\n",
            "  root at line 15141\n",
            "  root at line 15144\n",
            "  root at line 15156\n",
            "  root at line 15211\n",
            "  root at line 15318\n",
            "  root at line 15496\n",
            "  root at line 15811\n",
            "  root at line 15857\n",
            "  root at line 15883\n",
            "  root at line 16161\n",
            "  root at line 16200\n",
            "  root at line 16210\n",
            "  root at line 16253\n",
            "  root at line 16286\n",
            "  root at line 16301\n",
            "  root at line 16326\n",
            "  root at line 16574\n",
            "  root at line 16613\n",
            "  root at line 16618\n",
            "  root at line 16645\n",
            "  root at line 16695\n",
            "  root at line 16751\n",
            "  root at line 16765\n",
            "  root at line 16768\n"
          ]
        }
      ]
    },
    {
      "cell_type": "code",
      "source": [
        " # defaults if missing from allen cell and also for tuning\n",
        " # could split\n",
        "user_specifications = {\n",
        "    \"R-in\": 100, # MOhms\n",
        "    \"cm\": [\n",
        "        {\n",
        "          \"section\": \"soma\",\n",
        "          \"cm\": 1\n",
        "        },\n",
        "        {\n",
        "          \"section\": \"axon\",\n",
        "          \"cm\": 1\n",
        "        },\n",
        "        {\n",
        "          \"section\": \"dend\",\n",
        "          \"cm\": 1\n",
        "        },\n",
        "        {\n",
        "          \"section\": \"apic\",\n",
        "          \"cm\": 1\n",
        "        }\n",
        "      ],\n",
        "    \"e_pas\": -65.75\n",
        "}"
      ],
      "metadata": {
        "id": "_2pcBxJ2MCIL"
      },
      "execution_count": 8,
      "outputs": []
    },
    {
      "cell_type": "code",
      "source": [
        "# update missing properties to user_specifications if they're not already in the allen specifications\n",
        "if \"e_pas\" not in utils.description.data[\"passive\"][0].keys():\n",
        "  utils.description.data[\"passive\"][0][\"e_pas\"] = user_specifications[\"e_pas\"]\n",
        "\n",
        "if \"cm\" not in utils.description.data[\"passive\"][0].keys():\n",
        "  utils.description.data[\"passive\"][0][\"cm\"] = user_specifications[\"cm\"]\n",
        "\n",
        "if \"ra\" not in utils.description.data[\"passive\"][0].keys():\n",
        "  utils.description.data[\"passive\"][0][\"ra\"] = user_specifications[\"ra\"]"
      ],
      "metadata": {
        "id": "boBOffKDMH-y"
      },
      "execution_count": 9,
      "outputs": []
    },
    {
      "cell_type": "code",
      "source": [
        "utils.description.data[\"passive\"] # display"
      ],
      "metadata": {
        "colab": {
          "base_uri": "https://localhost:8080/"
        },
        "id": "aeI0jWVXMKQL",
        "outputId": "d158c85c-b741-4750-faa7-6d0df4b4f391"
      },
      "execution_count": 10,
      "outputs": [
        {
          "output_type": "execute_result",
          "data": {
            "text/plain": [
              "[{'ra': 153.714713714,\n",
              "  'cm': [{'section': 'soma', 'cm': 0.55447777707},\n",
              "   {'section': 'axon', 'cm': 0.55447777707},\n",
              "   {'section': 'dend', 'cm': 0.55447777707}],\n",
              "  'e_pas': -79.65586853027344}]"
            ]
          },
          "metadata": {},
          "execution_count": 10
        }
      ]
    },
    {
      "cell_type": "code",
      "source": [
        "# build the cell. Its parts will be assigned to the h object\n",
        "utils.load_cell_parameters()"
      ],
      "metadata": {
        "id": "883GDQ80MMiL"
      },
      "execution_count": 11,
      "outputs": []
    },
    {
      "cell_type": "code",
      "source": [
        "sys.path.append('single-cell-tuning/')\n",
        "from download_from_allen_and_tune_r_in import update_sections\n",
        "from Simulation import RInSimulation"
      ],
      "metadata": {
        "id": "zzReYMPuMRl8"
      },
      "execution_count": 12,
      "outputs": []
    },
    {
      "cell_type": "code",
      "source": [
        "utils.description.data['genome']"
      ],
      "metadata": {
        "colab": {
          "base_uri": "https://localhost:8080/"
        },
        "id": "6Wwr3pP5P_h8",
        "outputId": "9c021e13-edfe-486e-87f6-4e2861837bd5"
      },
      "execution_count": 33,
      "outputs": [
        {
          "output_type": "execute_result",
          "data": {
            "text/plain": [
              "[{'section': 'soma',\n",
              "  'name': 'gbar_Ih',\n",
              "  'value': 0.0017877435830761807,\n",
              "  'mechanism': 'Ih'},\n",
              " {'section': 'soma',\n",
              "  'name': 'gbar_NaV',\n",
              "  'value': 0.05118910631895057,\n",
              "  'mechanism': 'NaV'},\n",
              " {'section': 'soma',\n",
              "  'name': 'gbar_Kd',\n",
              "  'value': 8.903838040127954e-11,\n",
              "  'mechanism': 'Kd'},\n",
              " {'section': 'soma',\n",
              "  'name': 'gbar_Kv2like',\n",
              "  'value': 0.0002725790772869774,\n",
              "  'mechanism': 'Kv2like'},\n",
              " {'section': 'soma',\n",
              "  'name': 'gbar_Kv3_1',\n",
              "  'value': 0.10521580755926842,\n",
              "  'mechanism': 'Kv3_1'},\n",
              " {'section': 'soma',\n",
              "  'name': 'gbar_K_T',\n",
              "  'value': 0.007838697435023162,\n",
              "  'mechanism': 'K_T'},\n",
              " {'section': 'soma',\n",
              "  'name': 'gbar_Im_v2',\n",
              "  'value': 2.8103810231817594e-07,\n",
              "  'mechanism': 'Im_v2'},\n",
              " {'section': 'soma',\n",
              "  'name': 'gbar_SK',\n",
              "  'value': 3.095338402020649e-08,\n",
              "  'mechanism': 'SK'},\n",
              " {'section': 'soma',\n",
              "  'name': 'gbar_Ca_HVA',\n",
              "  'value': 0.0008814678006675907,\n",
              "  'mechanism': 'Ca_HVA'},\n",
              " {'section': 'soma',\n",
              "  'name': 'gbar_Ca_LVA',\n",
              "  'value': 0.002604826842658681,\n",
              "  'mechanism': 'Ca_LVA'},\n",
              " {'section': 'soma',\n",
              "  'name': 'gamma_CaDynamics',\n",
              "  'value': 0.03775272217626989,\n",
              "  'mechanism': 'CaDynamics'},\n",
              " {'section': 'soma',\n",
              "  'name': 'decay_CaDynamics',\n",
              "  'value': 20.047842724993018,\n",
              "  'mechanism': 'CaDynamics'},\n",
              " {'section': 'soma',\n",
              "  'name': 'g_pas',\n",
              "  'value': 0.0009362130642732987,\n",
              "  'mechanism': ''},\n",
              " {'section': 'axon',\n",
              "  'name': 'g_pas',\n",
              "  'value': 0.0008830098887486161,\n",
              "  'mechanism': ''},\n",
              " {'section': 'dend',\n",
              "  'name': 'g_pas',\n",
              "  'value': 3.0941079579915405e-05,\n",
              "  'mechanism': ''}]"
            ]
          },
          "metadata": {},
          "execution_count": 33
        }
      ]
    },
    {
      "cell_type": "code",
      "source": [
        "update_sections(\n",
        "    data = utils.description.data['genome'],\n",
        "    )\n",
        "\n",
        "utils.load_cell_parameters()"
      ],
      "metadata": {
        "colab": {
          "base_uri": "https://localhost:8080/",
          "height": 277
        },
        "id": "tTfCbggFMfDM",
        "outputId": "7580c46c-15c6-40b0-b6a6-2bee4f935f2a"
      },
      "execution_count": 13,
      "outputs": [
        {
          "output_type": "error",
          "ename": "TypeError",
          "evalue": "string indices must be integers, not 'str'",
          "traceback": [
            "\u001b[0;31m---------------------------------------------------------------------------\u001b[0m",
            "\u001b[0;31mTypeError\u001b[0m                                 Traceback (most recent call last)",
            "\u001b[0;32m<ipython-input-13-c51be87b27a3>\u001b[0m in \u001b[0;36m<cell line: 0>\u001b[0;34m()\u001b[0m\n\u001b[0;32m----> 1\u001b[0;31m \u001b[0mupdate_sections\u001b[0m\u001b[0;34m(\u001b[0m\u001b[0mutils\u001b[0m\u001b[0;34m,\u001b[0m \u001b[0muser_specifications\u001b[0m\u001b[0;34m)\u001b[0m\u001b[0;34m\u001b[0m\u001b[0;34m\u001b[0m\u001b[0m\n\u001b[0m",
            "\u001b[0;32m/content/single-cell-tuning/download_from_allen_and_tune_r_in.py\u001b[0m in \u001b[0;36mupdate_sections\u001b[0;34m(value_to_assign, data, sections, var_to_update)\u001b[0m\n\u001b[1;32m    120\u001b[0m \u001b[0;34m\u001b[0m\u001b[0m\n\u001b[1;32m    121\u001b[0m   \u001b[0;32mfor\u001b[0m \u001b[0mentry\u001b[0m \u001b[0;32min\u001b[0m \u001b[0mnew_assignments\u001b[0m\u001b[0;34m:\u001b[0m \u001b[0;31m# each entry is the assignment of a conductance somewhere\u001b[0m\u001b[0;34m\u001b[0m\u001b[0;34m\u001b[0m\u001b[0m\n\u001b[0;32m--> 122\u001b[0;31m     \u001b[0;32mif\u001b[0m \u001b[0;34m(\u001b[0m\u001b[0mentry\u001b[0m\u001b[0;34m[\u001b[0m\u001b[0;34m'section'\u001b[0m\u001b[0;34m]\u001b[0m \u001b[0;32min\u001b[0m \u001b[0msections\u001b[0m\u001b[0;34m)\u001b[0m \u001b[0;32mor\u001b[0m \u001b[0;34m(\u001b[0m\u001b[0;34m'all'\u001b[0m \u001b[0;32min\u001b[0m \u001b[0msections\u001b[0m\u001b[0;34m)\u001b[0m\u001b[0;34m:\u001b[0m\u001b[0;34m\u001b[0m\u001b[0;34m\u001b[0m\u001b[0m\n\u001b[0m\u001b[1;32m    123\u001b[0m       \u001b[0;31m# print(f\"entry: {entry}\")\u001b[0m\u001b[0;34m\u001b[0m\u001b[0;34m\u001b[0m\u001b[0m\n\u001b[1;32m    124\u001b[0m       \u001b[0;32mif\u001b[0m \u001b[0;34m(\u001b[0m\u001b[0mentry\u001b[0m\u001b[0;34m[\u001b[0m\u001b[0;34m'name'\u001b[0m\u001b[0;34m]\u001b[0m \u001b[0;32min\u001b[0m \u001b[0mvar_to_update\u001b[0m\u001b[0;34m)\u001b[0m \u001b[0;32mor\u001b[0m \u001b[0;34m(\u001b[0m\u001b[0;34m'all'\u001b[0m \u001b[0;32min\u001b[0m \u001b[0mvar_to_update\u001b[0m\u001b[0;34m)\u001b[0m\u001b[0;34m:\u001b[0m\u001b[0;34m\u001b[0m\u001b[0;34m\u001b[0m\u001b[0m\n",
            "\u001b[0;31mTypeError\u001b[0m: string indices must be integers, not 'str'"
          ]
        }
      ]
    },
    {
      "cell_type": "code",
      "source": [
        "list(h.dend[0])\n",
        "\n",
        "for seg in h.dend[0]:\n",
        "    print(seg)"
      ],
      "metadata": {
        "colab": {
          "base_uri": "https://localhost:8080/"
        },
        "id": "O9SP9IgfQORM",
        "outputId": "a3efa58d-ff1e-4578-f2a4-ae7a7fec2ec6"
      },
      "execution_count": 39,
      "outputs": [
        {
          "output_type": "stream",
          "name": "stdout",
          "text": [
            "dend[0](0.5)\n"
          ]
        }
      ]
    },
    {
      "cell_type": "code",
      "source": [
        "target_metric = {\n",
        "    'SST': {\n",
        "        'R-in': 100,\n",
        "        'RMP': {\n",
        "            'mean': -65.75,\n",
        "            'std': 3.76\n",
        "            }\n",
        "    },\n",
        "    'PV': {\n",
        "        'R-in': 100,\n",
        "        # 'RMP': {\n",
        "        #     'mean': -65.75,\n",
        "        #     'std':\n",
        "        # }\n",
        "    }\n",
        "}"
      ],
      "metadata": {
        "id": "_fxOf52DON0o"
      },
      "execution_count": 14,
      "outputs": []
    },
    {
      "cell_type": "code",
      "source": [
        "target_metric['PV']['RMP'] = {}#(1, 0.05)\n",
        "target_metric['PV']['RMP']['mean'] = 1\n",
        "target_metric['PV']['RMP']['std'] = 0.5"
      ],
      "metadata": {
        "id": "GLH3158-OytR"
      },
      "execution_count": 30,
      "outputs": []
    },
    {
      "cell_type": "code",
      "source": [
        "target_metric['PV']"
      ],
      "metadata": {
        "colab": {
          "base_uri": "https://localhost:8080/"
        },
        "id": "0LmCHT4_O66a",
        "outputId": "5e091980-4c7b-4564-bbc1-d02311571504"
      },
      "execution_count": 31,
      "outputs": [
        {
          "output_type": "execute_result",
          "data": {
            "text/plain": [
              "{'R-in': 100, 'RMP': {'mean': 1, 'std': 0.5}, 'RMP_mean': 1}"
            ]
          },
          "metadata": {},
          "execution_count": 31
        }
      ]
    },
    {
      "cell_type": "code",
      "source": [
        "RInSimulation(h)"
      ],
      "metadata": {
        "id": "zqRvccf6M1xF"
      },
      "execution_count": null,
      "outputs": []
    },
    {
      "cell_type": "markdown",
      "source": [
        "![image.png](data:image/png;base64,iVBORw0KGgoAAAANSUhEUgAAAswAAAD4CAYAAAD4pbCIAAAAAXNSR0IArs4c6QAAAARnQU1BAACxjwv8YQUAAAAJcEhZcwAADsMAAA7DAcdvqGQAAHdYSURBVHhe7b1tyBbV+vc//9/7fCj2G7EEH2JLgkjqLWKSQZkm1AtDjS3RHSbSjqBCxTRiZ2FSwWbfIm5p//ghaLF9UWCaBrlxh5Qa0sZoUyrU3d0byYd8v/3PZznH5TqPa82ccz5dnud1fT9wMOesWbPWmlnfdcyaNWvm/P/+85//3MgK/uu//ivL14u1cu67777s22+/LdaE6B/qaliIfkY6FoOONCwGHa/h/yqWQgghhBBCiATqMAshhBBCCFGBOsxCCCGEEEJUoA6zEEIIIYQQFYxIh/nXX3/N1qxZk33wwQdFyOhh69atwYTolD179mQzZswo1gaDZcuWZTt37izWxGgHP/78888Xa/0P15677ror++KLL4oQIUYGNIdP7wbffPNNeAHt4sWLRUj/w3WB68Noou0OM2KgAr3Nnz9/WMf42rVr2bFjx7Jz584VIb2DMozkBZzjwnrJSB/TWAKtolnTLx1WOgTeMXHhpQ7YbnHZjzC2Ab9tW5mVXbhJY8uWLdkbb7xRhPQejrOsTOagUxZr8YUXXsjefvvtoXMgRpYqP2z1ZJ1GwspA7+xX1Rkmrw8//DB7+eWXi5DeQrmtbaagMxIfc2ymaY57w4YN2ZtvvhnWRX9SR8e9wPI1vZSBFimH+X90RVup8nvPPPNM9q9//atYu+lTueG0Y7NrTR3fuXnz5qDjqVOnFiG9hesiZax77ukY+/P47LPPZkePHm16bgeJtj8rh7NavHhxqMQpU6YUW7Ls4MGD2ZkzZ7IdO3ZkGzduLEJHDo7hduXdK0bjMfWKuhoGnAGOaOnSpdkTTzyR3X333dnJkyez3bt3h+2nT58eclA4BBo/en/ggQdC2D//+c8Qd+7cudmpU6eCY2B/g7SnTZuWrVu3rgjJspUrVyadHg6qrvPsFDpHr776auj8wIkTJ7JFixaF3wbHQvtGd56FCxc2xMfxc4zSZ/eoq2OrJ++Hjx8/HvTKTdj27duDttDq+fPnk/qztnD27Nls9uzZRWgjpHH58uXswIEDRUjv4LheeumlcC2B1LmgzHv37m1oX0bcztD79OnTkzoXvaMVX1xXx93G8m2mDTq6+Esr32+//RbaE/4d3++hczxnzpyhdNHgvHnzsjvvvDPoddasWeFa8dZbb4Xrz5EjR4o9h2P6rWqb3YLrz/vvvx98AdTpd9AX5LyAP4/4DMpfdXz9zDAN5ys3zPLVod9VNnPmzBv5iQnxWcbbLl26FMJzETSEj5SRd17JyW2DaqPxmHpldTWM5c7uRt7ZHRZu2rZznncywnrutIfFJQ7bfDvACK/bDihH7nSS27ppVt6JEyfeyB1+adntHPjwlHFeOJepbbL2rO65t3pK1eGqVavCNvRr8cr8CPVXVYfm1/fv35/c3k2jzZAXbQJt8TsVj2Ppt/Ylu2Vl9Zayujr22zq1qnzNzP/7tkNbKNvX+0Tzu/4YqvRtNlL+1c4FZsdW5i/MOB6uJVZH/lwcOnQohPei7kbCKHu83rM5zH4Ug566H97nboY7EB5vsL3sMQejexh3bTb03+yRyOHDhxsen8R585iHbR7uhIhvU0pIwx4JYvwmLMbK5iE/yx/jDpXyx/hHNHUe84juwWhZCu6Q84Yf7vzh+vXrYZmCx07EnTRpUhHSOtQ3I2k2cm2gIXRh7cR0Ym2hHRgdzp1hSJMnRWW08sdEjz76aHbhwoW2yyR6AyNc8MsvvwRN5xfdMCLrod6ov1deeaUIGc5XX30VlvjAGPSITqv8bas8/fTToU0xcjdu3LgidDiMuNWFEWc/VVAMBrGO61677bpsukxdo+tCvoDvjJk8eXJYpnwlo895J7JYy8Iobd7hSj7dyTucxa80TPl85JFHirWb9OLawDWMcuc3x9nq1auL0GrImzphmWL58uVh+dlnn4XloNNxhxmx8FgDoxKpMBxzs3luVDRxEfiuXbuCg2TJekrc+R1KcHrmTDdt2hQq9w9/+EMR4xZMC3n99dfDfFDiIjYeMVBG4FFf6gL/t7/9LYj34YcfDg1wxYoV4TEKaWD8JszSKQPxkB+PXtiPDgr5PfTQQ+G4gSXrhOd3YSGeHf9rr70W4ojewmMkOqroDcdqdQN0MOzxF0umXfD4jLqN65/OAXFTjrAu3333XViaA/ZQPnRpWqIjYY/MwJxnmcWdF8paxxny3gHHzAutHCPpcOFJdYRmzpwZlnYcoj+wDqXdzOGPUn7vr3/9a1ji98qw909SOm/mbwENe13GFsdFn+i0GVevXg3liQcdUoMawCPwK1euBL8uBotYx3Wu3QZ9hrVr14aOK/2GdkGLdHa9Jn/++eewXLBgQVga6A+t/e///b+LkEbQIHrHt9KH4bpfBdeoeJpKTLNrA/nE7cxb3NeiLa1fvz74+zowFYP8mpWf60g8l3ugiYeb89WG4ecyi6dkpIxHX34InvB4eL/scbClyyMBC+OxWy6KG3nDaYhrjzPicNaJzyNEC7PHiZY/66TnH9Hx2MPCrBw8UojjkLYvG2brlCXOy4fbvpa+P37yp2xxWCo9Wdo4V6nwMuO8cr7ZD+PRLdqM9YOxTt1YPIzHULEWvBEn1kaZUQbiloV7DVo5bJ22ho7KrOxxGNtIh6XfZnmb3imDPXaj3fn4hEuj3bO4fqvM6hBNcP7NqDcLt7joIFV/6J+6jcO8eT9nRnqEx+3F8on1gP8zPabMtzcz0iCt1Lb4GNEnOqX9EubbDHkQzjIOl/XOyuotZVY/zXRc59qNsR/xynyfWbu6oBzkmWoTlAMd+nAz07QdV5n2sbLyWRrNrg2kzb5l5vtUsZEO+aS2WX+GayXrpJUqJ8Y5Sp2nQbD4XIb1hhW3scyq5jCzjli8WIkbn3wcNHFsPTbixg687IRbGeJOi8+nLBxhxfmbAOx4rGFixEWYKWH7spmQq4TojTwx8iAt9o+3lx2TbLj5c1fXOP+cY7vgUu/eGWFogHCbV0ZclinHzLaUbr2ZZjoNb9Ws/ZjmY+MYzRnGZp1m3xYIk0a7Z3Xr1+rQGzpO1Qd6jP0e9Uz8qhs/zPs5M/ZN5VMW3qpVaR19+jaKLmmPvsNSpXVZb6ys3lLWio6bXbuxMr16a0cXaCzVx7FtpJfynd4ot6Xj/alZWfnK2kVVe2nVSKesDVPu+PxWnce6ddGP5s9l1+cw89iCeXI8kuBRXRk8TvPz4Yz85Ibtdfnpp5+KX/V57rnnQhltztPf//73MJXEHrvwWOL7778PUz/4WgJTMX73u9+FR/Lxo/symr3NShqkxWMRPj/DZ4/27dtXbBUjDfXOPDMeMeWNPoS9+OKLYRmDLpiXxRvbP/zwQ3ikxiPCd999t4gx8rQyJaMuHCOP5zyPP/54WGr6RX+BZnOHPmToOPV2O4+m8Xs2bQGfk1+wa89ZbJdWpmTUBX3aHEmD9smUEPu6hhgs6ui42bW7l3DdRsvk//nnnw+bomRzdZk+2gz6CHX6Sp3QypSMunA94ZrXbCrGaKQnL/3V/fQJjSEF4RMmTCjWmnPPPfcUv+pj81I//vjjsM4nY/xLLzhf60Tld4Chc4TVmWPcbOI9aZAWDoKOF59d4XNNS5YsKWKIXkL94CzM6cbgeDds2BCcAti8+lSdctFGR7dzbiQvo+zYsaPU/MsqncDcZjG4MMeTDvInn3wSLv74vV53loGOekqbZp28NOspe5lXjA7qXLt7Af7/3nvvDb+//PLLZD/nf/7nf8KcaT8PmOtHqnNq7630yq/SrlLtzazVud1c55gjjc/gZUg65Ji9+MiyWd9nkOlJh9n+3Wb8+PFhmYLv3nJn5UcWWCfcRrIMOq1+ZNe+B1o2Ut0MXiCgsVFeOkfxCwM2amfQAOgcMfpd1TliO/DtyBj2IT07N6wT198Vn23hzW/RPnfccUeoI3O6Ht5MpmNhEBcn6UGTjGa1coPn4YUkaNfR2Oh4mbUz8oJWU/9g+dFHH4WlvegH1h7auXEVIwt+jIsdN+s2qsWIXTPuv//+0gGOOpBnSptmrb40ayNn/gU/2iNtlw5VjL2g1c2Oubh9VF27ewG+mZf0eXrB4JbvEAN+kOuE77sA+mab7zvYiHSZ7zQ/28pXi2LIN9XezFq9WbYvhuA/+H61GQNMwDJ+6RDOl3z7fRDpuMNMp5XOpRnTDDhpdDaqHkuwDaeGuBjBwwGyZJ3wVEXyNqrFtTdMyavdyrDRli1btoS7wjgdG5XjDWzys/Ih+qpRYO46TTScD/bDqXM85GUNmwsQadHgLQ4dfxvVjGE/Lm7EE92Buqbecbrc+cca5msQdILtkRN1hyapV/Rt8dAgIw7Uj3cSrfD73/8+LPtpmgPHal8FQZsYbQHNMjIRXzD+/e9/h2W7N65iZKEeAf3zKLvOE8F++8oEHQnaJF9BoB2af6YtU8733nuviHkTvvLBsY6WC/dYp+ra3Q6+H2OG3tGVfdqOJX/sEcdhO9D5pUypvgtfDWMbg2R2zUe3+Ney/g7gZ9Ftv3xlgsGXeMqMGdcE4Il5/Ccl3MDSp/GfTB1Y8oMtneBcZlVfycgrN/nmJ9vyk9oQRhzi5kIK21mm9s1FFowXPEjf4vLiVRwPS+VTFU5+bPMvj2CEkS/bMfL2aVjZ4jCMeFZWjJel4hcB7dhte95owjllP9bjtHghx9KKw2XDrdVzxLmN6xijrqiLOB71Rd1QTxbP9Fr2JjZxUtpIGemSVhyW0kJVeKtmbdgfq1l+Q9pwvPxOvRxGO0SfPlzWvtWt32Z1WGbmT6jj1HZv6J/4vv4JQ49xWFV4q1aldcpk2iMOlmq7WKp9yXprZfWWsnZ0XHXtLrsue7N8y4zt/vrgzfJBh1Ua4/qPPpv1d7yl/Guvrw0Y6dRtw5avrz/qhvCya2S/mz+Xbf81druPCNrB5v704u8VucPjER7ziMXgU1fD/QajFGjRTzsaBBiRZw5h6iVB0R79qGP0OVJ/jd1NGCUcqb8WFrfotYbHyrV7kPU7qD7D8BruyRzmQYBHIjxOYVoHH/QX4nZij+Ts8d6gwFQNHGKdt8LFYMNcZ6Yw9cu0jLrwpxZLly5VZ3mUMNau3Uw3YdqJ/cHQoMDgD3VEp3m0MGZHmDlWYA4UnwgTo4N+HJmrC53lbdu2DdSICW2TOf28QCK6R7/q2C5+g/JJKS7avGfAy73tvPwq2qdXGh6L124bZR6kF+i4qTl+/HhPZgaMFF7DA9FhFqIu/drREKIVpGMx6EjDYtDxGh6zUzKEEEIIIYSoQ1sjzEL0K9KwGA1Ix2LQkYbFoKMRZiGEEEIIIVpAHWYhhBBCCCEqUIdZCCGEEEKICtRhFkIIIYQQogJ1mIUQQgghhKhAHeYW4I8l1qxZM5B/XyyEEEIIIdpDHeYWOHfuXPjv+mvXrhUhQgghhBBitKPvMCfgLx03b96sczGASMNiNCAdi0FHGhaDjr7DLIQQQgghRAu03WFmFJbeN/N5n3/++fAbY47vN998U8S6ybJly4IdPnw4mzFjRvhtEJd9bH+2k7aHbYRbGlVxL1682FAm4u3Zs6fYepMvvvgibCM9i2thjC6D7U842DHHcPyE33XXXWEby61btw6b50w+8+fPH0qT34QJIYQQQoj+puMRZjq/U6ZMyU6cOJHt378/zPF96KGHhnUYz58/n61duzZbtWpV9vTTT4cwOsvEvXDhQnbo0KGQxrp160KHlU6n5+DBg9nrr7+e/fnPfw5x586dG+LGnWbyXbp0aXb69OmGNDds2JDsXL/44ouhg71jx45s0qRJIT5xgd/YzJkzw3qKP/7xj9nbb7+d7dq1K8RluXv37uwPf/hDEeNmB37FihXZvHnzhtLkN2HWGRdCCCGEEH3Kf/7znxtm+erQ72aWdzBD/LyT3BCed1JDeN5pHArLO7A3Jk6ceCPvNDfEzTvPIfzSpUsN4ZZ2HJ/1vIM8LC5hpGHr5Ov3xbZs2dIQL++0hniEx/Ewy79Z+NmzZ8N62TlgO+uWF+FxPM6L31fWmaXqTSYbNJOOZYNu0rBs0M1ruOMR5tWrVxe/brJ8+fKw/Ne//hWWBlMQpk6dWqzdhNHoRx55JExjiFm4cGFYfvbZZ2FprFy5clhcwq5cuRJGceGjjz7Kpk2blv3yyy9h9Nbs7rvvDvH8iO6jjz5a/Gqdo0ePhuW4ceMa8mIdbDsj1HlnPYywM/2DqRiMhB85cmTY+RNCCCGEEP1Fz176sw5sFXRg58yZU6zdYtGiRWHZyufb6CAbTPFYvHhxg9k0i17A1AqfXwyd/O+//z7btGlTmCpC/N/97neh8+ynrgghhBBCiP6iZx1mP5pcxtmzZ4tft7CXBsePHx+WdWD+MUyYMCHMbf7Pf/6TNOuMdwMr36VLl5J5bdy4MWwHOs2snzp1KsRnnjP22muvFTGEEEIIIUQ/0nGH2U9x4N/w4IEHHgjLKngBkGkZfpTVpjI8/PDDYWkcP368+HWLvXv3hikY1kF/8MEHszNnzgwb4aacvKDov+BRRbNR8gULFoSlnzrC8ZCXnQv/dQ06z+vXrw8vJ9YZiRdCCCGEELePjjvMzzzzTOgQ0iHl021MM2CE13d2U9jn2+yTc6RBWoRv2bJl2Cg1o7MWF+NzdEy/eOONN4oYN+c0kz+dUUuT5UsvvRS+1DF79uwiZjk2h/pvf/tb2L9s2gRpMdWDY+bYiYvx5Qw6/czbBkuP8locOtPEWbJkSdgmhBBCCCH6k447zHzqjZFfmyfMS3y8zOZfzktBh/Pzzz8PI8Q2D5gRYz7xtn379iLWLZgDTAeTl+eIz0gyn7KLX5wjX/KnHMQjTZZ8xs1GrpvBtA067EyZYP/vvvuu2DIcPiNHud55550QFwM+HWcdftLjE3dXr14dirNt27ZwnPG0DSGEEEII0X+0/dfYNhJcN36nUDZ1MEUzWtGwEP2KdCwGHWlYDDpewz176U8IIYQQQojRgDrMQgghhBBCVND2lAwh+hFpWIwGpGMx6EjDYtDRlAwhhBBCCCFaQB1mIYQQQgghKlCHWQghhBBCiArUYRZCCCGEEKICdZiFEEIIIYSoQB1mIYQQQgghKui4w7xmzZrs+eefL9ZEp/z666/h772/+OKLIkQIIYQQQtxOOuow06n78MMPs5dffrkIGTt88MEH2fz588N3+rAZM2aEG4eLFy8WMW7CObI4sZXFp7O8YcOG7M033yxChBBCCCHE7aSjPy6hw3f58uXswIEDRcjYYOfOndnmzZuzpUuXZk888UR29913ZydPnsx2794dtp8+fTqbOnVq+E2HefHixaETPGXKlBAGP/74Y4g/ceLEbNeuXdnq1auLLVnoRE+fPj07ceJEtmjRoiJU1KFVDQvRj0jHYtCRhsWg4zXcdoeZqQO/+93vsv379zd09kYLy5Yty5YsWZJt3LixCLkFo8N0dE+dOlWE3MQ6xzt27Bjaz8JSnV86xpy7CxcuNHSygdHrefPmhc60qI+ctBgNSMdi0JGGxaDjNdz2lIyvvvoqLOnYxZABI7CHDx8OHUvWmWbAFAZgm4WzJJ6HTiYdVuJg5EGYh339tAjSj2E/trFkG2WxuKm868Coego6xHSMGXmuAx3k9957L7ty5Ur27rvvFqE3Wbly5dA5E0IIIYQQt4+2O8znzp0Ly3hU1Dh48GD2+uuvZ2+88UZ26NChbNq0adlTTz0VXhA8fvx49uc//zmEM0q7du3aMFptfPPNN2FEdsKECaHzibE/YXGnmd8rVqwI2yzeunXrwlSJVEfzpZdeys6ePZvt27cvmTejvXSozc6fPx/KautxmkyvOHPmTOjU0+mOy0+nefbs2cVac4jPMRw7dqwIucmsWbNCR9rPcRZCCCGEECNL2x1mOpNlI6mM4jJdgekGy5cvD6OoxpEjR0IYRieWTuF3331XbM3CdAY6kMyLpjOJ8Xvu3LkN0xOYMwxxPKZBsO/HH38ctsU88sgjIW5Z3tevXw/HZMYosnWaMbtBgO3bt4dycox02pmawkj3nj17GjrPdWG+MtMyYsaNGxeWv/zyS1gKIYQQQojbQ8eflUvB3N8YOrMwZ86csDQmT55c/LoFX92gc8wIcmzM52WbQeeYuSV0UC2OjQJfvXo1LGMeffTR4tdNfN6MCtOZN6MDzIi1rdNJjiF/8mZkm84zMPJ87733tj3VQwghhBBC9B896TB3Ch1jpmDEZl+gMJi6wZQIRncZLeYzbP/85z+LrSOHjWwz2kznGV588cWwrAsj2YyMCyGEEEKI/qPvOszMLd6yZUsYPU6ZwUtxdDQxOquMAjNlg+kN7eDnMNsouZ/DbB311DxpOs+MMvvpFVUwMk58powIIYQQQoj+o+0O8/333z/ss2rdgI5jPPXCYH4wHVWDTiZTJuKXDpkiQQe6HfwcZm82h/mOO+7Ijh49mpwnDby8R6e/DnTSGR0nvv/zl59//jksJ02aFJZCCCGEEOL20HaHuVdfceArF7xwR+c4npvMqHPcOWae89tvvx3mC1ucBQsWFFtbx89h9mZzmCkDZaFTTxnjUWk+VcfXM1LfTuaFwzguf/piL/sR339thA460zRSXyERQgghhBAjR9sd5ocffjgsuz3KTMf1888/D5+Vs/nL27ZtyzZt2pT96U9/KmJl2d69e8OLeXylgjiM+DLy2+6UjFag88wftgAdfDM68cxjTv2RC3Ow47j8UQnTN1im4jNSrWkaQgghhBC3H/01dh/CqD0df74b3co3nUXrGhaiH5GOxaAjDYtBx2u4ow4zL8DxqTjmDWvqQPfYunVr9vXXX4epIKI15KTFaEA6FoOONCwGna52mIFRZkjN2xWtw4uLfMuZKSb2/WpRHzlpMRqQjsWgIw2LQafrHWYh+glpWIwGpGMx6EjDYtDxGu7LPy4RQgghhBCiXxg2wiyEEEIIIcRYJx5h1pQMMaqQhsVoQDoWg440LAYdr2ENKQshhBBCCFGBOsxCCCGEEEJUoA6zEEIIIYQQFajDLIQQQgghRAVjosPMn4HMmDEj++CDD4qQkWXZsmXZzp07izUhhBBCCDFItN1h/uKLL8IbhN7omPLvf3RSY+g0sp39yojTjKGzaeGxkebhw4eLWOW8//77Ybl69eqw7ASO66677srmz59fhAzn4sWLoXz2L4gvvPBC9vbbbw87J6K/QVvUs+ltzZo14e/gY/bs2TO03VuV1sHaRJmx3egknzI4Fo7J0ilru56yth+bLxNtmPTZRvupk49ojzJ/GVsKBhTY1urNPfs1ayes23Zv7Q4mxNr1Vhfpsn9pV8dg1+mqOJ5mWmjH7zWjlWtAGfQ3aAt2vBxDqk1xLBxTs3iinLY/K4cwFi9enG3YsCGbMmVKEZplP/74Y7Z79+5s7ty52alTp4rQm8I4evRoNm3atOzLL78MlebB6Z45cyb8jstBpW7evDnbsWNHEXKTvXv3ZhcuXMgOHTqULV++vAgdDsJ45ZVXsvXr1xchnYHoOMbz589nU6dOLUJvYeU9e/ZsNnv27BBGGdatW5dt3LgxrIve0IqGq6AT8NRTT2VLly7Nnn766ezatWvZO++8k12+fDk7ffr0UL1T1+iQuvWsXLkyqQ+DPH766adirRH0Q9uyv5zvJJ8UONl58+Zld955Z0hz1qxZ2cmTJ7O33norHPORI0eKmMNh34MHDxZrjRw/fjy087htWHvheB577LGQD+v4gthHiFt0omN8M+c4BRqCH374ISyBCymDCmgO8LN1/RQ3ctQrmlmyZEkIIw/fTux64X04LFy4MFu0aFGxVh/rTFi+MXXKL132lk59cas6jqED+eGHH4bfdcpg8bds2ZI9+uij2bfffht+4x+tv9Kq36tDK9eAFLTde++9N/wm3uTJk7NPP/00+HHKv3379rCNeAsWLAjtkm333XffULxVq1ZlBw4cCPFEI8M0nK/cMMtXh343sxMnToT4LP22vJLDtrzDOBSWO9QbuSO6MXHixBt5RTbEx3JHGrblHe1h5WBbqmyXLl0KaWJ+m1nemQ775kJObm/H7NgpV2p7qkwcc1U5Zd2xlE5aNXSFFtFsHI6GfL3z28fr1Pbv3x/yidtWO/lU7cO2VLtAp52cQzQe51nWVlLHKLtlndRBmaX0a/WDWZ34uqoyX99YVT5xvGbWbB/ybaWssUmXvbdW67uupfQVm13z845grTLQT0mlVxaeslQ7MGtH+3V1aGlzzHG49cFsPb8RTKZXFi67afE5xOo/r2gBG3G+fv16WBrTp08PdzRY/OiCOzfupghPjTyXQVzSZJS5DO5QczE33PWRN3cOLBm5ix9R8OjQP7pgJCN+xMhoCGnaXW4M8SgPI9ox3LUS7h9Viv7jq6++yq5cuRKm0sSgobzRNIxe8RSh22zbti2M2MWjbt3Oh2PgWFKjIfnNQvGrNRgtQeOvvvpqEZKFUQx49tlnw9JgehT5tzOyKNrj3XffDXUb18WkSZPCqGp+k9jWlDXq24/wmqZizTJi1206GQWWLgeXlI4Nrt1r164NTzLmzJlThFbDCDLwpCOGp8P44dR1Pibl9zoldQ1oFfooxj/+8Y+w9OnZU3eNMNejJx1mHCWCnjlzZhFyCyoIITzzzDNFyM1HY4S1OmWCxpHfbTYIw/P111+HTnWKl156KZR13759WX5HFx5X8HjbHvV9/PHHIRzHbI8rDR5jpzrAf/3rX8Py4YcfDkvDzsV3330XlqJ/OXfuXFj+r//1v8KyiqtXr4YOQjyfkqlFdebWpyhzvnXz4QbQjMeEtI84LAU3rNw8bt26NXSeqh4BVpFy8rQ/pme1ciMsug91TN1u2rSpoS7QFH633frxN5BAXvDggw+GJTClCR2gsXiAokyTdeCmFprNn04hXQ4mZTo2/vjHP4b+QN0pRcD0BPj555/DMmbChAnBH1eR8nv4cfO51hm1dczaSIpWOuDkyZQKbhKYHhX78TfeeKOIlQ3dPPh86UNxvqrKIyJyh1c6/Fxl9iiAoX8eWZjlwgmPs3mkEMcnHON33kkN+xI/r9jwmzCL58tBPIsfW17RIdznFZvtF4dZ2X0464RTpjjcP97A7LGQn17CsfMoKA4zS+Up6675emrHTAdo0h7rYejNP/oyvaIRtqFFm1bk49Yx8rB2ElvdfIhnRlroMQ6L0zSz47X0mZKSildllIf9/aM9y5cyWnkxwqzNy4Yb5ygV3q5Rr2ihWd2Sb6c+ijbj8zKNUe9oBT1Y24p9KJpAQ5hdG2wdi9NkG/mwv8VnHcM/W7yUSZe9N85nKrwTq9Kx70uY5ny8lKEBryW0QFhVGmV+j3RMY6YvW8eqNFZ2DSgz0rK+kJn347QHjoV4HBvl5fzE14g4TdlN41w2rDesuI1VxgmPKyg234nETCi2bmKmsmIHTRzCbT2O6424cWchZcSL08es7F7kZeGWfxyGkT/lt3XKQjwaURzPLFUWWXctVU+tmtU3dYuWqVfMtBlrDufjNYijwhHhKOPwZlbmfLF28uE44jbXzHC8duFIXZCqjHKk8rJzxnbKw7FxnOaom3Vsxqp1Q8dmdnNfx/fUjVdmXKhJw2uVdTQch2HWaTa9mV7KzNoG8Smn73iwTrzUNSg26bL3xvlNhbdrVTq2DmG8jd91y4CerDMe66JZGsRr5mPRVt1yVF0DUobeKTNlN82yL37cXxeIGw8AsZ12SfmbHcNYNV9vHXeYfcXiFAn3ok5VChWG4OIw4vhytCJ8b6mylJW9LLwsfxO3XRxsZMXHM0uVRdZdS9VTmRE3Nqsbq+/URbOOg8Ss45DaVmZ1046tKh+Oo9X0rMOR6tyUWZWTJ3/aue+AV138ZPV1TLzYUufTOgJ1boLK0qhjlg96SG1PWZV2zB/78GZWpx1Jl723VuqOuLG1qmOrzziMNFopQ8q48SpLo27nthUdt3oNoM/h+1AYfRLyrNMWOW+t5DmWzNdb1+cw2xxlvjvcDOYGl30WZhBgnnLegLNPPvkkzAXiszTd+NazGBlyh9pg9tLHPffcE5b+pVUomw/vYT58K7T74ojPJ54nB7yQ5cOAefo2Vz+GzxIBc07rUvWCCnNkOS4/39BeDBOdUaZho9mcz26A72MeMRr+/PPPW/KBreisLnXannTZX3SiY3THJ914CZA5vGZ84hb43e4c3WPHjoW57imq/F48h5kPD3BMsR9OlaedawDvtqSuSePGjQvLsk/WGbRdPuV7//33FyGiip689PfEE0+EFzIQ6u0GsZ/twZcMgIbLxYGGbN9nfO6558LSYw3EOmPi9sOLIbGZ47MbIZxcDM6FmzxeBAH0zYtG/sU74qUcbZXjrnK+reTDi35VZtAx4CLjy/PZZ5+FZaxT4pS15WZOnpew8AW8kBJj6Y0fPz4sRXuUadio+qJAq/AynX+hDg3ajRedZfvuvAf98jKS56OPPgrL1AviVdDpIE3yj0FX6C3uABCH8DiudNlfdKJj6xRu2LAhfOvbjOsy8Dv+frLXMb/REr4sBi3QmUzl2czv8eJ4yv+apQZjqq4BkNIx1yL8uG8H9lUavq8P9sdX3t/bn7o9+eSTYSmaEA8356sNw89VZo8ZUo8j7LFu3uEYCsuFUGvYnzi+HKTTStli4zGOf2RRVvay8Kr8bR8eFaUejZjZI5LUY35Z96ysnlo1e9yGHqk71nl0RZjpg0eDhFH3PLojPBUPY4oDYSmNNHu010o+dQ0dmmYpG2mQNmGkG8cljHzIMw7H2L9Zu6YNsj9L8iE/0sTqTBMYi8b5SoW3Yu1MLyiLbz4dMx9GmGkD7bCfN9s/1gDtCbP5lHG8umZ5x/ot05XlQ95xGtJlb41zmwpv1dqdJpPqS6R0bHGpd/OvZb7QrI7fa8WaXQOwlI5T7YCyEy8uO3qO49H+TP/Et3iyRuP8NKw3rLiNVUbFEL+sgr3YEFcdgaVETkNppWyxpTqqZWUvC2+WPyJkO0JMbccQJfFS22Tds6p6atXQjnVKMRyW1waOyOq2Kh7r5pDjcIx9m2mjbj6tGM6WNCgX6bHEifrOgsWJ2xBmTj7VkfZGG7KyWz4+Pdkt4zylwlsxuyC2cp6Jn+qYoAnqL/bp5herLE4D/xi3J37X0U6ZoV+O0evXHy/5sp32HIdj0mXvjHOaCm/V2tExlupLpHRs4V5L+FvvC7FW/F5do0xYaptZmY7Nj7MNIx107cueilfVZ5EN13Dbf409SHT7r7HboR/KMBYYrRoWYwvpWAw60rAYdLyGezKHud+go/rOO+8UayMPc0/tT1GEEEIIIcRgMSY6zDaq6yf1jxR/+ctfevqWuhBCCCGE6B1jYkqGGDtIw2I0IB2LQUcaFoPOmJySIYQQQgghRLuowyyEEEIIIUQF6jALIYQQQghRwbA5zEIIIYQQQox14jnMeulPjCqkYTEakI7FoCMNi0HHa1hDykIIIYQQQlSgDrMQQgghhBAVqMMshBBCCCFEBeowCyGEEEIIUcHAd5jXrFmTPf/888Xa6OaLL74If6/966+/FiFCCCGEEKLXtN1hpvPGG4TeZsyYETqwI9Gpowwffvhh9vLLLxchWbZs2bJQDraVEZc9BdvpiNM5tXjz58/Pdu7cmTwu8sR6zaJFi7Jp06Zl77//fhEiusUHH3wQ6pk6TnHx4sUGTaDzVFz0sXXr1rCdeMSv2x5Ma2VWVrZmsF9Vecracmxxe/rmm2/CubBtVW3+8OHDoe1YXPZjf9E9qBvzexjnm/PuqavhMurUpW0rs25oGON4U8eIBtFiO8fo92UpvY4cdeuu2zq2a7vH0vfWybW+jo7RW5xfbHWOs902YNeBkejLDCptf1aOk7t48eJsw4YN2ZQpU4rQLPvxxx+z3bt3Z3Pnzs1OnTpVhPYGRHH58uXswIEDRcjNzuvRo0dDx/LLL78MovHQQM6cORN+++Ols/PWW2+F/detW5fNmjUr+7//9/9m//rXv4aO68iRIw3pmsAI7zV07Dju77//PnlsY51WNAw4F25ANm/eHNZ37NiRbdy4Mfw2iHPvvfeG37t27comT56cffrpp0EnW7ZsybZv3x62gemPdBYuXJh9++23IQ56atYeypyatan9+/dnq1evLkLrwYWFm0rK8Oijjw6V58477xxqH1yADh48WOzRyPHjx8PxnD9/Pps6dWqIO2/evLC/tY+TJ0+Gc7F06dKGNoBWn3rqqRD+9NNPZ9euXcveeeed0GZPnz4d0hNp6urY/DB+6fXXXw9h+/btC3V+6NChbPny5SGsFQ2n2LNnT/D1q1atytauXZv99ttv2XvvvRf86NmzZ7PZs2eHeL3QsPlk8n/ggQeCjmiz5H3ixIkwkAAcI+3vwoULIS7t75NPPgn51jlGrgvxvufOncvefvvtsE3+tnVa8cV1665THdM5XbFiRfBJTzzxRDZ+/Pjs448/Du3F+37KT1ni/g3cc889LWsY6urY2jTl8XBeLF4Kzs+CBQuCjyWv++67b+j80HbjvlKM7cf59358LDNMw/nKDbN8deh3M8srOMRn6bflggjbckc6bFu37NKlSyGP3AE3hOeVfSPvnNyYOHHijbwBNWzDchGGbfkFZtjx5heYEEb543C/nTzicNZ9WK+s7LhlN83XaZWZhu18skQfZfGo/zjcdB6Hse51Z2mn2kodIx80S92ntpelTftjmz+msvCU0ZZibbMP++Yd6IZ4HDPhtk5ZKbNvF+xXN++xbPG5rDKrD68NX2+taDhlqbokT59PmbWrYdvmfTLpEB7ryM6FT6fOMdr58X7VfH5Z2WTl1uycx1a37qye2tUxWkWzPpz+gNdxqjzNrGofttXRsR1jHK+u5TcYyTKUhZvhvzkvqfMwls3XQ0/mMNsd2fXr18MSuHvEeNzAkp47xl0XxI9JuJNv9gjhq6++Ckv28UyfPj3cUWHcrRmMjjGSSHhqtODFF1/Mcqee/elPfypCGmG0Jhd8GHFLPabzx8ZIMHduhj3yYMnxUQbWeWTCvsSNH6XY+YphWy7ocFcsOmPSpElhBCN3Wm2NGEDuZIpfzSG/VkGzlHHTpk1JzVbBCDIwKhHDaCAa2rt3bxGShhFiRhxeffXVIiQLIzC540iODtN2DNrnlStXshdeeKEIuQn7sb8fxRfdp+4IfjMN44OoyyVLlhQhN0GPPGXAH6LTMjrRMKAXRhNTMEJo8JSEkXY/Ase+pFEF+xCnzA/ccccdxS/RCzqpO6OOL2bk9IcffijWGpkwYULx66bmu01dHfMUsF3+8Y9/hKU/j+vXrw/L1Agz/RH6RP/93//dVvscU+SVWNqbrjK7C0rdsaxatWrYaILd2WHc7bAf8UiDJeHc3cfhZXdDmN2R+nDysTsky7NsW7y/jXz5O0BvdtzxHaHlEx+blS9158hdHMfIXTLHzLliX8LJn3gWbuWNze4GfbisNQ178/UVm2na6tdGVP2IFNsJZzvxWGe/ZroqM/bzbcn0ZUZ+xLN1tlu8VBkxa2M+PDY0ltKfGW3GzgVljPOxcsXlltW3ZnVjxvk138H5x6eYVv0TvroaThnxUho2vZvmUtaJhr0RTnk5XrQZp0kaHFMcvx0jTfKxttuNNMeiUR+p8JS1Uned6Dg22oe1F9pQ3F5IlzTJg238Jk802msdsx/hHBd5kiZlIDxOI2VWBv8EkPRT/tzC7dyzvcrnjzXjXDasN6y4jVVmgorFgXGyqWQvXguPhYGZGOLwOo9tyyo2Do8fPZtjt0ZBHNZtPzueqjwxykk8jtvCSItj8yK1xmDrZXmwTjhljMPJIy6jmcX34bLWNOwtVTdm6MYcp5l3nhjrpi0zdOC1UcfK2gFtizzMLA9bj9se4WgTh4j+0BhxzBHH6cZGGmxnn9R2zHSI+XNh2zhv1jnHOIf+capsuHGuUuEpo66sPs28L8Hqajhl1ikhvt3o89vyLdNJNzQcG/GwlI4sHyw+zrrHaGZ+GqMsds2QtWacv1R4yohbt+460XFspjvMtxfTAPmwjXVrA+jU4vVCx5wDttn+1qknzDq2ZUZ7o03G5bZzSjhpxvHtZsHOnZU7jjOWjXPesN6w4jZWWexUvKUqtawiysJJh4r24WZ10zPxIZY4PeIQbut2PFV5YgiLeDRQC6tbFsuDZRyvLNzKHodVhcta07A39k3VPw4a/VDn1vGlrnCMsfNEGxZmF1ni24iI7VvXyI/9ml0IUtoxY19Lh3g4R46xmYaIl9J0yjhWjjkuq6VPGP4Ap4+RJuH+IiFrtKq6iY0LKnG5ONq5J8zOu8Wrq+Eqo07RhdUraVGPrJfprxsa9kZaHC/7xO2VdQyNxZ0F8q97jLFxnih/K2WT3TLOWyo8ZXXrrhs69oaGSTP2d+RD/l63prsy/9WKVsp0TNqEx3Ex6zQ3a0uUPR6k4LyQJscXH2Oq7fo4Y904Pw3rDStuY5Vxkv3JxlICwMoqoiw8lUZsraSHYHD0cRhx4uOl8bFOQ4zjebPjjstWtyxl56wsnDziMjYLl7WmYW/sm9Kc3YX7cHM4Nopg2vcdYxwc4c20FZvpsaoNmBHPa6eZ2WhJapt1wlpJEyfNPuboTaP+XGCtdMbHqpXVjTfrPPhwq187/3U13KqlLrpmvdaw3YjaOmmkzkU7eo6NPMgrtU1WbpzzVHjK6tZdr3Rsvhs/ltpu1kzTcVnrmtdxmXWqY/pB5ne5JpGnH9z0fZaxbpzveL3rL/0xuTw/4UOf4+kH+JxX2UR/gxdk8oYYXnSKX9Tz2KR5jlGMDa5evRpeJPWMGzcuLH/66aew5DNB4F+2shcpql6M8rz77rvhJbpnn322CLmFvTRqljvv8Gk3W49fdC3j2LFj4SWbFNu2bQv6Tn2+yF7e9fB5J7BzwKeXIH7x10idS9EevIznP3sFps1ffvklLOtquFXQHcycOTMsY7qhYZb2orQHf83xG6zzOS2PabMK8iSfFKTL+RO9o27ddapj6pi69tx9991hmfJXMX57L3RchvnWdqBPw+fr7r///rD+2muvhSUvhFMmM+Jh9ls00pOvZPB9QwSQEke3oOK7/Z3nP//5z6HcJiYPnen8TjR0Juy7o7cDvmlKIxMjA29P8yUA70DsbWa+RQz2pnPqQ/RgzgqqnFKzrwr8/PPP4fvIZcZ2IF+cNLqNIV+cZ6ojk/oyRgw3A6mvInz22WdhaR3lhx9+OHSWuIDEcLy02/iNdNE+nOPUN7TPnj0bltaRrathoG6970aHfMEnhrTQ6apVq4bptFsati/LpN7u59u5sR/kix2E+S8cWKc+/tIFceJ4plvfVjgO2krdL46I9qhbd53qGL2kvg7EN5/B9MagQOoLXOQNlk8vdIzPtq+HxXz00UdhGd+ceh3zvXT29/7Z/uzsySefDEu209fhm9R889kMrWP8/u6770JcEREPN+erDcPPVcZjAeKnHg/Y49n4sQXD/Fgcryrc7+/NHk/4R75l6XkjTup47VFmLuCQvxmPiwjnsYafQ1SWpw8vO2dl4eSbKiNlaOXx/liy1Pmqa+yb0hx65vEVmuDRHfVkOqEuLB66YJ24bCce8VnHYq3yGI79U/VIGPGbzVWrY+gvLg9L1uNyx8YxprRsxjGwvz8XqTStjZIej0xZJw5hXuuyRuMcpcK9xeeY35xn0xb1YvHqahgjHuGkZ2Hmi9AmeZAGaRHX+2Csmxq2clrelIvjJYx1ixe3P8obH2Osabs+YXHZbV/2Yd9mxyirNs5vKjxlrdQdcdrVMXqxNK29oCvCSMfisS2OV1aeVsz2b6ZjK4/Fw6xNx9enlI45j/H5KTu+MiNeu8c3Go3z0bDesOI2VhkCIj7L1HYqLRYwlZCqiLJw0k51XswQBnHixoCVpeeNOGXHyzHZvCLiYBwL5UldAMry9OFl56wsnPx8GcuOW3bT/Plqxdi3THM4J3NaGA4ppQfWcVCmHZas+wsuzoztsaPEiEc4+8Th7VqqPDjOlI7tItFMW3Yu/DGm0uT4aDvEw9jP61w23DhXqfCU+XPM71Qd1tWw1a3XLHHZx/YnXqoj2W0NY+Ttj9G3HczrPXWM/CacNFL7+mPkvMXxZPWM85cKL7M6dYd1qmN0Y9f/eP84jsWrk08rxv51dMz1wcfzbZpyUCav49T5Ib04TpkRP9WXGavG+YjX2/5r7H4g9dfYox0eGfo/RBG3GDQNC5FCOhaDjjQsBh2v4YHuMDN3Z86cOVl+Bzlm5pgxr2rlypX6p7QS5KTFaEA6FoOONCwGnVHVYQZ7EaXsLydHE7zA8Pjjj2fff/998kUaISctRgfSsRh0pGEx6Iy6DrMQMdKwGA1Ix2LQkYbFoOM13JPPygkhhBBCCDFaUIdZCCGEEEKICoZNyRBCCCGEEGKsE0/J0BxmMaqQhsVoQDoWg440LAYdr2ENKQshhBBCCFGBOsxCCCGEEEJUoA6zEEIIIYQQFajDLIQQQgghRAWjosPMX2QzOfvixYtFSHf59ddfwz/r8U97QgghhBBibNFxh5lOKn9PPWPGjNBpxebPn5/t3LkzdDRHgs2bN2cbNmzIpk6dWoTUh06wlTtlHAedZdJ/8803i73EaOHw4cNBr1bfa9asCTdgKdCC6RxNoPt2NG43YKSTolv5wJ49e4aOzZu/AeS4OX7bznlp5SbRl3vr1q2V5ea4UuUQ9Wjmu7D43OKrqV/THnVFnbXLSGrLaKYZwpctW9aQD21cDA4ffPBBqLsybZp+vVHvMfiebvpSYF/SaNaG6paxjLrtJRVPeu8dHX1WDmEjHqBDOWvWrOzatWvZv/71r7ANPv/882z27Nnhdy/gIjB9+vTs7NmzbeWDCBcvXhzKP2XKlCL0FgsXLswWLVo0lM+JEyfCuuhPWtEwF3zqfdWqVdnatWuz3377LXvvvfeyM2fODNMTOt+9e3eI/9hjj2UnT54M69OmTctOnTpVxKoHDu7DDz8Mv31Zu5kP4Mz37t2brVu3rgi5xcqVK4duMrkQ3HvvveH3W2+9FZbvv/9+8lykIB9uXDmXjz/+eHbu3LmQDusHDhwoYt2EtvTqq68OnQO1qeHU0THn8eDBg8VaI8ePH8+OHj2anT9/PtRxXL+7du3KJk+enH366aehjrZs2ZJt3749bGuFkdIW1NGM+fK5c+dmr7/+egjbt29f2OfQoUPZ8uXLQ5gYGVrtT6ATdIEfgR07dmQbN24Mv2NIN3W9vueee7LVq1cXa7f8rMXFv3fiSykfHd4LFy6ENOkbfPLJJyFN34bqljFF3fZCZ3nOnDlB7y+99FI2bty4Ib1TpvXr14d4on2GaThfuWGWrw79bma5I74xceLEG3ll3bh06dKw7XnFhu1Lly4dtq2blgv1Rt4AktvqWO54w3GzTG2PjWPNG0Fym6w/rBUNp/SJltFTHG4ayR14Q9z9+/fX1o5ZfuEO++QdyWFlbTefqm2kVacN0o5Ih3ZrYZwLwihrHNdbWbxUmpSHMM597tTD71bO31gxzksqvK6VaRj9xfHwZ1V5VdXPSGgLq6sZi+evR/5cyEbGqItUeMpMn5j5O+ozFZdtzXwG/ZNUGs18KTopy9f05fdNtaE6ZSyzuu2F37QJr/eycFnr5uu17SkZ7777bnblypUwIsfjBw93QZs2bQq/uWMCRgDosbNkdCJ+rMHdEvHixx3czRFexbFjx7JHHnmkWLtJWT6dPq5g1MRGzsVgg67Q75IlS4qQm6AVRswYnWNUCxiJg2effTYsDUYK8kZUe3QUfTOSnTveMDLg6VY+MbnTLX5Vw6gEIxXxaB/nIne+Q6N6ZXz22WdhybHFPPnkk2HJuTQYlckvWuFc3HfffUWo6Cb4KEbBGJGtAyNu7TAS2oJuaKad6Xpi5Jg0aVIYFc07eZUjsM36A8Yvv/wSlmgnhicr8O2334ZlK/A0Bx17P8wTG/yzUbeMZdRtL/R96NOwLYY+FNc288uie7TdYaaycLRVF3Eepxw5cmRYhfL4AGfL4wMc4eXLl0Nn1Ob3fPzxxyGcxyb2eKYMHlOkplKA5UN6PJKDFStWhI60hwZEeGxe+Ew5QYjWkRKDizmjH3/8MSxjxo8fH5bmdL/++uvgwLyOW+WPf/xjaDOpx4xQNx+0yY2gGTDtwdbZbly9ejV0FprNc6ODNW/evGLtFtaxr7oI/PTTT2H5+9//PiwNO8dxxwp/0eyRpOiMbdu2ZUuXLm3wzfzmgstNDVOR0AhzzOmkvPHGG0Ws/tMW1NUMN5q0L64j3DRQDsrG9eW5554rYol+BB0xhaCZ77t+/XpYcr2umpuMZlKDDD///HNYLliwICy5lsd6ZwoT05lsPR4go6/hB+dS1C1jGXXbC22N8nruuOOOsDS/LLpH2x1mKpU5ve1A5xgnzJwyHCEj0aSHw+NuzRwkFo9Oecx5+7tIA9GRD+mRF513IA8P842Y/xab76wzRwisIyUGmy1btoQOA46MiyvOkd+Ee3B4xMFJWeegzhMQg04KowPM+ayiTj44fZy6GZw+fXpo3S4KBsd45513hptGbkSBG0ffsSm78QS7CFRRNopHx0qMDFWjy/gzdGC+jvmR/H744YeLGP2rrTrQduj8c/xPPfVUKAdtjuOMR+vE4PPOO+9kr7zySpjLjobRoQ24lUFn1W4mTQ9oL9Y7N1fWacZ4FyOGPgAdaesIY2Ud4XbKaNRpLy+88ELQenyDyE0w/SvRI5iXYZavNszXqDLitjovjDk97Ofn9pSF25yhOCy2VtPDKDNz2my9Kq63VuLKbo9V6SVlaAw9sB/zvnLHNjTP2OoZzbBOPOITnncOwjr7MF/Opxsb24nHvhaW0na7+cRl9ZY76WHzVpnbRppz584dCiONuHxmVs4qzaeOxYzwMj9Bms3SHqtWdj6bGfWaOt9ni3dK0LfpiPOOBmIdeKuqn5HQlrcqzdBW2Ea5bP4mYRw380J9fFlvjbpIhdexMs2gY8L9/FzqnH28Hs2Ijyab+WvaTipfjPQx4pAfGiQuacZ6b7eMZmXHThjbYu2TFnlb2Zi/TP5lachaM85jvN72CHPuFJOPAwYB7sqEAKZH/PDDD+HxHaMEqacPkDul7Msvvwzx7QkITz+YolP2pQKDEQjaS9lUjJhO8knBY07/dQBG4ni0yCPGmNT0FMMe81VRNlVpwoQJxS/RS6pGl/OLZxgJRt/2JAB98TUJdBA/eq7LSGqrDrQzRvLiR/u0H8IYZdZUusGHkWF8o9WvYU9J/Igw4NcZhcWH8tWusidhdUBLPKlGY7QfykKbQu/2xLudMnrqthfaH1NXuX5hPFG3edqi+7TdYcYp4pzjOW0eHBiPLPrNUdF5EaIMPuUGM2fODEscLFr3DrCO46UjQoeX6Ua0FTNziPy29lE3H/axOXYYnSHKbOtsbwaPHmNoEzx699j846pH2nwqCf7973+HpWHTSFIvOIruk5q7bDAtJjWFzqaZ2XzHftNWK9AhSj3K1lS60U/ZtB58kH2ijYEIrzU/h9leArf1+EYSHXttQ90Oat2pR522l6+++ioseedKdJe2O8wvv/xyNnHixPBiXWr+DkJFbDjwTu7oqrAOTdkbr9bxMWgcdF7qTNxPYfP3eKNXDD50TLmpi0HLu3fvDi9IWceVF4e4GDMPOcY6D/aSIKCxuFNhHRFGJuL58eQB/LaR47r5+Hmm3kyn7McNq59PyjHy0i6j2QbHyyhJPFeaeMwBZVsMceJ4NnLCS7wxf//738MSHyB6S9XoMjDKj+/zvtp8p11c+01brcD1KPUUxjoadr0Qgwsjxbzf4UHbEHcS0dFDDz0Urvepjw+An8PsLR4N5utJaNbr0/oZNvLbShn99QLqtheuF8yl9vzlL38JbcE//RFdwOZmYPlqw3yNZmbzwzDmiDFnBmOeHGkRznwai182/6wsnLSalSm/Gwv5xWGWHvmzjXXKylyfumVKGcdIfqltsv6wZnqJzfSFRpgLxhwz6heN+HlupmnTE3GJh8Vz1VgnHnqL9/fGPLhUWevmU8fieXtoN24H5BFrnriWD3liqfbCb/bF4nNk5zJ36CEP8rPjsDjeyN+XQ3bTOC+p8DJDt2gqtQ2j3qhL4lG3nHOrI+o5tU+VjaS2YqvSDPmzjfPAb9o0eiSMMvr4st4a5z0VXsfYF5/iw30dxzqO9W/x0BjpeGN7nG4dizVPGs3yblZGjLQIj8tTt71YW7B8MH4T1myetKyecS4b1htW3MY6hmPjoogjZn+MykUgVHwc1yqYZZ1wRNmsTOTjO7GWHqKxDghGuWLBxXF93ilj/6oOgOz2WzO9eENjsXa5wJZdrOO4OC+04OOyP9vK0jAzx5baViefukYbtDYSH2NK77QN62BgqfZCeqTFtjgc8+UmXx8ntlba3lgzzksqPGV2gY4vuinz9UtdUWfeT9e1kdSWWTPN+Jeg+N3svMh6Y5z/VHgdY1+0mdoW3whhKR2bfy0z33Gta+SBP8a/kU5ZG6pTRow4qetFnfaCpfQuf9o945zG6x39NXY/wCMN/9fYPOLgUXcunOR8vnZI5SP6j0HUsBAe6VgMOtKwGHS8htuew9wvMD86vxPL/vrXvxYhveFvf/tbw/cbhRBCCCHE2GDgO8zw5ptvhpeoGAXuBUy4J/26fzUrhBBCCCFGDwM/JUOIGGlYjAakYzHoSMNi0Bl1UzKEEEIIIYToJeowCyGEEEIIUYE6zEIIIYQQQlQwbA6zEEIIIYQQY514DrNe+hOjCmlYjAakYzHoSMNi0PEa1pCyEEIIIYQQFajDLIQQQgghRAXqMAshhBBCCFGBOsxCCCGEEEJUMPAd5m+++SZMzO7V32Kn+OKLL7K77ror/GW2EEIIIYQY3bTVYV62bFnopFbZSLF58+Zsw4YN2dSpU4uQ3rNo0aJs2rRp2fvvv1+EiEHngw8+CLrduXNnEdIIN0he4xhtoQ7cXD3//PND6cyYMaM0rzqQ3tatW0M6pEe6pN/KTRz5d7K/uP3YgEHK6uqr2zpg8KITrR8+fDibP3/+0HGsWbMmHKcY3TAQFfct0ABaqEtdHdfRl20rs1b0HMN1pl1td8Pni85o67NyVPpPP/0Ufv/444/Z7t27s6VLl2ZLliwJYbBx48biV+/AMU+fPj07e/ZsNnv27CJ0ZOAcINbvv/8+CFf0B3U1bOBsuPHhxgt27NiR1C7pcmM2ZcqUIuQm99xzT7Z69epiLQ15cCG4cOFCSGPhwoXZJ598EtrNli1bsu3btxcx60N6R48eDeUlvW+//TakxY3cqVOniljloF3ypzyPPfZYdvLkybBed3/RW+rqmE7G4sWLgw486IKb+yq4YH/44YdBO48++uiQju68887syy+/bNm3ofUFCxZkly9fDtoaN27c0DWijtb37NkT9lu1alW2du3a7Lfffsvee++97MyZM7fFz4v2acUXm47nzp2bvf766yFs3759QZuHDh3Kli9fHsLKqKvjuvoq6xCblvfv39/U73ss77ivtHfv3tBWTp8+3XTQr1OfL1pnmIbzlRtm+erQ77p24sSJsF9eicntvbRcLDdysSS39douXboUjjtvOMntsttjrWjYtGv1WKVjthE/ta2ZkWZq/9x5hvA4zMzKltqGsQ39x2F2DM3KaWn7Y627v6z3VlX3sTXTSZXlHYSkDsrCzQjPL/rJbWUaqtJ6bBMnThyWNr4WP1+Wp6w/rRVdmo+kruPwOvXeio471Rc6Jg1fTjPyK/OfqTzOnz+fLHvKiNeuz5e1Z5zbeL2ncyfiRyRY6hELcdjmsXDuPMs4duxY9sgjjxRrNyG+7Uca3FmyTjl49MEISPy4kLs2/0jEP7JJlZv9c/FnH3/8cREiBo1JkyaF0YLc+VWOFnT6OPjgwYNh5MSP9u3ataul0fC6cFxVfPrpp2H57LPPhqXBOaA8zUYlRf/AKFO7MPIGjFbFMMqGb2P0q1XsyaPXkD2ZqWpLbLty5UrDk0rA165bty6Mro3kuyqiP2g28lpXx53qi21cLzZt2hT2aRWeMPq87dgY3e6EZj5fdIeedZjprPKYGyHmdz/B8jusbMWKFV1zejxG8Y/IjZdeeimIkMc6+V1YeOyxcuXK0EEGOrqE8yjDHscDZaOM8+bNGyo3vwnznff7778/lEEMJjir9evXN3V+169fD0s6J+3MH0Mj/sYuBdN8aDfYgQMHQpitY3G7wXG/9dZbYU4buuRxH+XhkV+zC8zXX38dOvDtOH3RX1y7di3UJTqgPm1wAL0047777gvLn3/+OSxjJkyYEC7wRqzD48ePZ+fPn28IM5jOlLoJ5FH2xIkTK6dU2DbiesaPHx+Wv/zyS1iK0QU37/QPuD7jBxmgYpoF1+3nnnuuiJWmro471de7774bNBwPNNjAXNwO8N22HvcZaBd+up/59AcffDAsq+jE54suwTCzWb7aMPxcx3gUwH7+kQKPHsoeP+QVPxRmj2LieHE46fttmOXrt5eVx9KL88b8o0Lb/9ChQw3xOBYef8RhZWWX3T7rpD7Y1+sGM03wSA39sM6jMcLyzsqw+N4sXYw0WMfQXvxojzSt3ZAucWwd4xGjxWU/wiwtjH1oYxanzCw9NG75WF5xHrLbZ9RHKtyb+SDqDv9Ena5atSqE+ce3KaP+ecRMXHSNvkmLsLgMphkMDbM9DovT9JZ6NF5m1q5oGxwLx8RvKw9lTO0n6z+L9VPHqGurZzN/vS6zujpuV19lUyfYP24HxKEsts72OL432ip5l03xiK0Tny9rzzjHDesNK25jHUNg7FfmDKlM4piIfVxz+PE+cXiZgC1fv73VcJ8/okTAmDWqMjGXlV12+6yT+mDfWJtmXPAJ9zowPaORONwbcTCcHfugQdJDYzi81D6m19Q2ysF+mHVwaWfmfJs5UHO6dHwoB3nh2K0jJAd8+62s7r2hvVSnwjrNZb7LjO1xh8E0gZWVgW1oKLXNG/qs0nnKSN9uLNnX/DDr3n/L+tfK9JMy/A/x0bJpljDqv86NXys6bkdflnaz9lSVhjfSJH6z6wdGvp34fFl75rXTsw4zIjBR4lwxu7uL46YEHYeXic/y9dtbDU/ljzgJR5xswxC3byxlZZfdPuukPtiXOk1tSxlOqs4+ph8fbhcJr0nM9OrDMeuoeyeJPsvyio22iLa9nusej6z3Vlb3da1KW3XMfHVqG/qo02G2zjJxvdZaNXWYB89a0bB1XH246bDdDmGVjmOr0lcrfrEsDW8cK8dMO01t99apz5e1Z5zbeL0nc5htHnB+UQ4vVB05ciRYO5/Puh0wF5C5Rsxvpvy5WIO99tprRQwhbs1tbkZ+4xjm4nkmT55c/LpJPIeZz7zlDnpoHbP5bsxbBT9vzeYkx3OdU7Af8/r8HGbNgxs9mEbahReq8d9GrEPg5SUfFoOW58yZE14kxfd3Ol+e9gAzZ84MSzG64GW81PtIfJYQ2p277nVcRpW+UnOXDT+HGZ9NWrYez2EG3nnhIwK0j88//7z2p+k69fmiO/Skw2zitq9RGFVvSPuXp842eWvUhN3JW+IpEDkvzhiUnxfDli5dOkyUvDxAZ0iMbngRBSfn4a1qmDVrVlgCGvFOkhdf+Uao17856TvuuCMsz507F16oKjProNsLKv7LLZY+L6MatCvKE7cvXqbhAsVLIzFWbktf9D/4Kl4C8nz00UdhGXcA0EesQX6zPxfvGHTAi6pxByGlx9hiSO+pp54KnQe+BFNGqq3gb7luxKBdBixWrVrVccdb9Cd0SPmakMf6Ad3Scav6QqNsK/syBi8aptqDWfwiIvnYRwfoLFe9AEvZ4/5GKz5f9JB4uDlfbRh+rmP26Dh+XMFjAx438NiX7RjbWfdxbX8e2xFu8dif8KrHG0z58I8iLD2/X1k4+RHu4zE3iN+YPd6My41RTj0K6S+L67JVS9UxZvWPRvmNJuxRn380bbqNH7Xx2Mw0TfpV+9exOD3SIb3cqYd1LH5sZ3NZvU5Zt3C/P+nHcWUjb9RNKtxbXI88VsaszmMtMz2CMCzWB/qLdcSSdfRlcVoxKw/7k7838rC45EPcuK0QhzA7HnSJnyeufxwt62+jHlPhKfM+NtYxmrR4neq4VX0Rj22d+kSbnmTHE7cJM4tLmYhHuSysFZ8v655RDw3rDStuYx2j4tgvrnAMMVLhbLNKptJTcVk3MbEPQiCM9djBeiPNWFSYlcfvVxZu+cRhlJ0GSDhGHr7Mdiyxs5fdfvN12Yqxr69ns9iBx5rwjpQ4KQdGPHO+VfvXNZ8eS9Z9vuZ8KX8cjpE/5ajaX3Z7jDpJhaeMOuZiyj4Yv71fQi/Ute9ApHRkvjqOV9esDGUWt6+ythLrEiOedDl4Rt2lwssMHzUSOq6rL8LYTrp+W6tGnpZfmVlc+ihW/jiN1DHKZ/fW4nrB2vpr7H6BRxa3+6+x40fd4vYzaBoWIoV0LAYdaVgMOl7DPfvjkpGACfD53WH217/+tQgZOfj/eeY1CSGEEEKI0c1AjzCDjTKfP39+xN7yZ0L+448/nn3//fd6CaXP0KiGGA1Ix2LQkYbFoOM1PPAdZiFipGExGpCOxaAjDYtBx2t4oKdkCCGEEEII0WvUYRZCCCGEEKICdZiFEEIIIYSoYNgcZiGEEEIIIcY68RxmvfQnRhXSsBgNSMdi0JGGxaDjNawhZSGEEEIIISpQh1kIIYQQQogK1GEWQgghhBCiAnWYhRBCCCGEqEAd5hK++eabbNmyZWEphBBCCCHGLh11mD/44INs/vz54U1CbMaMGdnzzz+fXbx4sYgxuPy///f/sqNHj4alGL1wQ7RmzZohDaPnL774otjanD179jS0AdLyN1ms23ZvO3fuLGK1DvvS5kjnrrvuyrZu3Zr9+uuvxdZqiEdbZT/2Jx2OxZOK10mZRffpVMNeR9R3Ske90MJIabjuMYrbx0jpmDQZDIvzOXz4cLG1PUZCx/G58SZGiP/85z83zPLVod/NbMeOHSH+0qVLb+zevfvGoUOHbmzZsuXGxIkTg50/fz65X7t24sSJZHg3jOPgeFLbZINlrWj40qVLQ3pFw9jcuXNDGmfPnk3uE5u1gVWrVgV97t+/P+zv9c8205i3dnXNvpY3+dL2bD0V3xvtlvjsx/7sxzrnwOJwfqZNmzZ0fihrq/nI2jPOcSrcW6catnqnXqlf9ict6p20LR6/TdvExd9v2LBhaN84zbo2EhrGLJzykifxOQ6OJ44n665xzlPhKRspHZsvJm00jNm+/I7TrGsjpWPiYeTnLY4n655RDw3rDStuY5UhxJTDMUF2qxJpLAi/lbK1at0sr+z2Wis6MccWO2ScK2F1nB3Oy7cBOspeT9Ym4njNrGqfsjKmjidlXBiI5x0yx0Jbs3W2E4+yxPHKwmXdM85vKtxbJxpmH+J535cK5zdhvs6t0xyHmfWDhlPtEaNjQrg03Dvj/KbCUzbSOibtOC79Gfx5HGbWDzrGrLMch8l6a77e2x7Lv3z5cvGrkUWLFmW5wLK8couQm/DII350zWOH1OM8/2hj5cqV2aZNm7JcmEWMRni8QlzS57EGv+0xjn/E4x/TkBfhsHnz5vCbRzVg6fpHQj7NsuMQ/c+HH36Y5Y4pmz17dhGSBY3kzi9s64R77rmn+JVl3377bfGrO3z22WdhuXbt2rA0nnzyybBkKlEVn3zySVjStmKeffbZ7MqVK0Oa/8c//hGWtOmY9evXh+WBAwfCUtw+OtHwl19+GZYLFy4MS4O08N979+4tQrLs4MGDIR+vhV27drX15xQjpeFffvklLP0xTp48OSy73TZFe4yUjquYOnVq8as+I6VjOHXqVPFL3C7a7jBv2LAhO3PmTOhg0lmN5+vgVGPhU+krVqzI8ru40JnG1q1bFzqpzIM26Hi+/fbb2Z///OfghD/++OPQMf/xxx9D46nixRdfDHOn8zuwbNKkSaE8Dz30UHbhwoUsv4sLeeLcye+1114L+yBSwoHj4Tf7l0Fn2adpx8GcJTFYUI/z5s0r1m4xZ86csKS+q3j11VdDGtxA0QbQ1urVq4Pjf/jhh4tYWXbt2rUQhkbQcdmNFvsThlln1NYxezfgp59+Csvf//73YWlYmzt79mxYlkE6tEXfpu67776wtE6EnQf/TgJti/1Hw7sKg04nGrb6/vnnn8MyZsKECSFtA1//yCOPFGvl9JuGuRZxLfEdfTvmBQsWhKW4vYyUjumIohv6LWgVv43/pp/x3HPPFbH6T8dABxqavTMjekfbHebt27eHziV3PXSGf/e734WKZLJ63HmGkydPhiXCw3FhGzduDEKhU2xwJ0jHdfny5WGdeIwu7969O6xXwZ3okSNHQrrcKX733XdBYO+9915Ij7TozGA0BiCeOdIpU6aE33FH32OdafKxNMmP8LfeeksdiAGEei/j+vXrxa801D96ZQSENvDUU08F54zmvAOkw/H111+HmzZutuhA+xutc+fOZcePHw92+vTpEGbrmC9P2YjI1atXi1/lTJ8+vfg1HDr4wA3lxIkTwygN7ZobXy4WdDLKnjCJkaddDaNfdMhTN3RI/VLPdCaOHTtWxLrFuHHjQv3bE0DMv1jVbxpOQXm3bdsWdF3l78XIMhI6xi+/8cYbwU/jr/Hb+G+u37EW+lXHDChy48pgHf0ijo9BPPU9RoaOXq+ks4jziUdm6UDce++94c7NIB53+cRFzJh1WmNBdXIRfvTRR4tfN6ER2ciC5UmZEJbdqbUK4kSsvjNkj4Ls8YwYG+CgcVp0gNEa04a4wVu8eHGD/mfNmhXicaPFDRs3W9w8cpOHo7YOBzehxMHodIOtYyN9ceci8Pnnn4eLEe2a4+LRPE+AuDkWgw+6QpPok/p95513siVLlgQde7jBo7PwyiuvDPl8/LhNY4N+07CHtkZ5udZw8ypGB2irjo7RKx1l/C7+Gr+9f//+bMuWLQ2DF/2mY3RLe8MfUzb6NUyNY53+zN/+9rcipuglHXWYDSqPTjGjzThSYIqEwSMDnBSj0C+99FL25ptvZv/85z+Lrbew0WTrTNPp4I6Ki3WrIDA6NIyCPPPMMyHPffv2FVvbA2HaI6IYjh+qRjVEf8J0nzLuuOOO4tdw0DRa5aJrT0S4kaId0MGM9c92m/cb8/jjj4clT0PaoWxUgceQzTh//nzxazjjx48vft18tEjnngsLRhvneKyTL24/7WoY0Cwapj6p3x9++CFo+Lfffiti3AI/TGcBLZvPZ1+enjAg0Q4joWHDOsv4cToaZaOC4vYwEjqmT4CO0bANfNHRJqyTp8S91rFdW3xHnXWe1PP0UvSetjrM1gG2jm0MjhTxxfOGeLSLKDAuuDhdxO0fRdiLgjwuo6PLRHrS+tOf/hTCW4F5ynRo6MDTeMiTCz93nZ2QmpNkc4hSTlr0Lzgae9wWY3VcNYpgj+Ts5aEYnFus/zL8DRbtyebIMY2JEQVbx8wp2wuF//73v8PSMB2mbupi6ChQPt/ptflyNn+uDPajk3T//fcXIeJ20YmGq+BpGjd+BvmkngB6/ferhkmXJ5/AS2LtnhfRG0ZKx9wspaZ+MN0I7CXRQfHFoOlxI0dbHWbu9nj7M55/HINImftoIAhejovv6BGIv7NiLg6jzHRwuUskDo8f7E6wFRA0HXAb/TXKJuFX3d0aPELn2Ly47U3Y+EUv0f9Qn3T8zLkBdcucNrbFECeOZyMen376aVgapuvYSXPzFz/uMz766KOwnDlzZljG8+ZSZp1005l/YvL3v/89LO3GEygPo3+xZh977LGwZHpFzPvvvx/arbUZ5gFSdj96QjywN8HF7aMTDfOb+vUDH+iFNHlBysB/k2a8P9j7KdYe+k3DQJm5tjCdjoGTdq4noreMlI7RhtcMWL+gX30xnXSOMd4XSI+bAA1ejBB5x7T0m3NVZt8ZzAURvg1olt8phnC+c2lx885D+KYg3xw8ceLmHzwQD2N/i7e7+L5rbOy3YcOG0j9CIT3isYzDrXykyTbyphwY4XFcykBZiJM3nBCWSpdtlIc07Fg4ZuKRn8WT3T7zdVtlfEOT+sTQCWZaNR1g/CZdLNYhuiSMJXpA16Yv1sviYflFIIShH4vXipnuSId8Te/kEcezfHw4miec/djf4sXt1s4PbYNzQ7ntWKT33hrnOBXurVMNowPiUp/4M5ask4bFwcjH0kV7Fpf0Yh/eio2EhvlNmJXbWxxX1l3jvKfCUzZSOjY9EJ/fsS9mnzhuXUNH7N9LHXPcHI/5Yo6RJWEY5y9OU9Ydox4a1htW3MZmRoVaZZtR2VRmHI/KjuMRB7EThhHHHLLtb2ai8MI3Iw5p+jxJzy7uGPsTx8Qdx6V8bCfcylOWLnFN0BgCJs04juz2ma/bZubrEx0QFsdBS9RzSoPUPdts/5T+MbsAxPnEDrEdi/OmjaQcPvmyPe7AY9Y+2I/tpJMqT0rvpOnjybprnOtUeMo60bDXgemI8DheKi7pocFU3LrWaw3765M38/ey7hvnNxVeZiOlY3TE/nE+g+KL/TGyXjaYKOvcOM/x+v9XBAYY8s/Xi7WRhUcLvN2aV/6wlzF4nM2E/NtVNjE43E4NC9EtpGMx6EjDYtDxGu7KVzK6AX82AvwZBJ1nM+Yl5Xdm4bMvQgghhBBCjDR9M8IMdJD5egYT/Y25c+eGr2zwSRUhmqFRDTEakI7FoCMNi0HHa7ivOsxCdIo0LEYD0rEYdKRhMeh4DffNlAwhhBBCCCH6EXWYhRBCCCGEqGDYlAwhhBBCCCHGOvGUDM1hFqMKaViMBqRjMehIw2LQ8RrWkLIQQgghhBAVqMMshBBCCCFEBeowCyGEEEIIUYE6zEIIIYQQQlSgDnMfs2bNmuz5558v1nrDzp07s2XLlhVrQgghhBDC03aHmb+x5g1CbzNmzAidvF9//bWIeRO20Tm7HdAhHLROIeeXvwh/+eWXi5D2+Oabb8K5v+uuu4qQRp599tns6NGjIb+xyOHDh7P58+cP6ZebFM6ZBz2ja86j6XzPnj3F1vagPZCO5Y1GKY+HumGbxaO8qXhlfPDBB02P0XSSstvVbkU90Ad1avVVpo+LFy8O03CqbuO0vHUKWiSdZppCj5SzzG/THuP2Q9zUdaeMuudCjDzNNGJ15s1rpVMdoxHS6IZG2M+XwVuMvy7xu07e8XUiZWXtibbA9rHaD6hL25+V48QuXrw427BhQzZlypQiNMt+/PHHbPfu3dncuXOzU6dOFaE3096xY0e2cePGImTkMJEcOXIkLAcBBHz58uXswIEDRUh7kM6xY8eyCxcuZPv3789Wr15dbLkFcXAOg3R+ymhFw3R40e+qVauytWvXZr/99lv23nvvZWfOnMnOnj2bzZ49u4h5U0PcWGzZsiWbNWtW9vHHH4cbGrS+fv36IlZ9tm7dmr311lsh/wceeCC7du1a9v7774e8T5w4kS1atCjEs3ZGe3r99ddD2L59+0Lehw4dypYvXx7CyrBjXLp0abZkyZIQtnfv3qCt06dPZ1OnTg1hlg9t1LNw4cKh8oiRoa6O6VjOmTMnmzZtWrZu3boQdvz48aDVWB90JBcsWBDqHT2MGzduyFej6e3bt4d4YP7S9BLTrv8mf/S9efPmsF51LaDDhE+6cuVK0G3KL9GRoQ3Y9Ye2y7FwHuLrTopWzoVon1Z8MdTVCOlavcfcc889Dde3TnRMWe69997we9euXdnkyZOzTz/9NPjsdjSCfz158mSx1gj+GH744YewpLO8YsWKoP0nnngiGz9+/ND1plkfirbz008/FWuNcF45bxyPwXX/1VdfDWlDfO0RCQ3nKzfM8tWh380sP7EhPku/La+UsC3vdAyFsZ5XdkO8kbJceMFS2/rRLl26FM5X3sFNbm/FJk6ceCNv4DfyDteNvGOYjJNfWEN+58+fT24fJOM4UuEp49x4XXDu84tuQ7idn/yC2hCXc0oacVhs7JNqH7aNdhKHWb3H7YTfhLEtjuvLWGapeNSzz8facxxPdvusbl2gITTYTB/4EtL0ejRfHYexX6u+umof0xZm5SiLa/EoF2l67WIp/WJlx+itlXMha99aOZetaqRZHWPt6NjMyoPvj8ObaaRu2cxSWqbctN84Hsb1JtUe6lhK8+RJGP6Da1urZR8LxjmJ13syh9nu/K5fvx6WMdw9xY/RUo8Z7HEZcTDipx5/cxdIPHtkwpJ1wlMwGsNdZ1VcnybGaEbqEXb8yKfscQ13lpYnxqMVwqr46quvwpK4MexPHvE5rHpMxN0mozRPPvlkmHrBXSTn1mOjUJ999llYjgWoP86NH32g3hmpY4TOztUnn3wSlitXrgxLg3NKGs3qM0Xe+Bru9GMYUaiDjQ5XwZMFf4y2H6Poxrffflv8EoMEGsVPoNuY6dOnN4y02qiTHz0yXx37t2YjtK0yadKkMHqbd+qTT7hi8ot4lnciStsG/PLLL2HJk48YRgGhmZZbORdiZKirkVbqpts6NvLObPGrc959990s77CGa4nBExUbbfZMmDCh+NUa27ZtCyPWseZpP3lHOvR57rvvviJUVBL3nvPVht50ldkdWOqOhJFMP+pBXO6QMO522I94Pg324e6KeNzdsc3uhOK7MOLZCJ+lx5J1wi0eZndsmMW1NP0dG+txmpSB9Pwdn5WROJjdocVlZISdMI7T4qWO2ZuVzYcTRp6YnRtLL87XzI6b32WjMmakyd1zatsgWeq8lRlxU8fs77bj8xgb24lHfFvn/JpZ+rZeVueEozfqgLzidhO3B+JQ79a+4ic4rZhpwcqNUT7y4GkEabOdfAmP95WNjHH+U+F1jbpDJ6ltsaFP6jsOI2/TA78x0or1hoZM1xj5oV1bR6txmrFZ+qltsZEeltqWMvIk7XbbRepcyNo36iIVXsfKNBL7XDTHb+qMuov9JmZpVOm4yszPkhf54htJI9Z2uz4fa3ZNxiir+XyOtx1tW7uoKoud16o4Y9E4Jw3rDStuY5XZCY7FgeHgEJl3mMRNdQYIjwVjnRXEZGGYXch9PF/BVq44fyuTF5s1gDjclwdLOWLW2T+Ox3ocZiKP42A0YLb5cLOyCwV5sq93DITF5wZLdYpIM1Ue25bKc9CMY06Fp8zqHw3jlKhnu2gSbtoqOzemNdML+1tcjG3Uja37NmFGPIy6oRx+O/tZmcziem3V7EIQ64hjIF0rpzlpwrzOZb03znsqvI6V+UZv+DPieX9HGPqg3kmD9FjHzC+zr+kaYxv6tfUqzaTyTJmlldrmDS1b/qntzazsXMjaN85nKryOldWF+VzqGl2ybn4cXxvHJayZjqsMTZAP6Zj5jnm7Ph+za42/nsdmaWLt+vw67cLOK8vU9rFqnJOG9YYVt7HK7ASnLOUsCU81AB9OxVLBpB+bvwjYRd/2i414cYfUxBvHwUiLuClR01gsb4Qd542ZkMmH/VMN0LZbOj49H9+srLzskzqHhLEtLoM5kTiMchIWH4dZWZ6DZlXnNWWcO3OK6Im6obMYn6eyc8N24qXqBCs71ynDaZrG4/SszthmjpUwylrVKSkz057vmLOecsjWaa5y6rLuG+c8Fd7MTC/NtIF/Q0O+k0E9oz+2x+HWoSxLl/ZR1g68kU6duHV9EmW2QYM6HSFvZedC1pm1q2GsTCPUFeHeH5nvNL/Wro7NTBP4S9MUvhyNVOmEtOv4fNIsO8aUcVyUp057iK3qmh+bXcvqXq/GinFO4vWO5zDnJzjMxzTLhRveJK3zCZQymHfJG/ux5cIttt7k6tWrw+b4Grmowva6xG+VUm7mAz700EPZm2++GSwF84xyMYZ8nnrqqTBnkLnKfo4V84b9sXCOeoHN7QPyzRtYdvDgwXBM2Llz58K2Tr+8MZrgjWPmi6Fd5nKVzZ3MHVzxazh15xxXgeb42kbeQc3efvvtIvTmF0zQPttsnipz/AijnaXmpJdBWsxrR7f+6xqsp7728fjjj4fld999F5aif6Fu8UV5Z6DyLX58FP4N/+m/QIHGaBPxF2KA9fzGMvv666+LkP6ANovf5V2Czz//vNa8/piqcyH6D3SIPv2c/Ycffjgs7RrXqY7zjmx25513huuBaYr5v3ypiC8Z0dY6ITV3uQr8M/6ed2tamcedmrss2qfrL/1x0aWC4ot+KzCpPb+Da+iExxZXfNmkfsJbmRzP52iARsCnVzZt2hQcMQ4U4+W+FHRc2E658jvAkG/8YhgNgouXPwazbsOLE8BLgdx0cBHheMxocECHneMTaezzPzNnzgxLHCbn058ze7nIXpjg5T+7OcFwuqRl6/ZyIEte2Ey9LIgzp94MfvvPJwGfwoL4JqkMyk2HAH3TqWj24lUMn7sT/Q83Q3SWuRmq6iyjAT5DZ77Ldzyq4DNsBjdqsdbtxVJb77RDUQc6Dvbpry+//HJY56gZnZwL0V+kPjBQRqzjMhgIYxDMY37XBtnq+vwY2g7XYPoZKc3Zy/2eu+++OyzrHiv65rrFZ+NEd+jJVzL4dmC7Xw948MEHwx2cHzkjrXgEtywP1gm3kTGDzqzv8NhIq41UWyPw3zn0b12Th+/wcAdIA0CgxiOPPDL0fcMYvvjBsZRx//33l94M8I1VD99xpKNld8J8pxcYFfWddC6o4L+IQdxWR2cGHZwVHY0YNIIzY6TXnNljjz0WlozWx/DNUG6K7Cbu559/DvVTZmwHu7FJjfSjF+rSsKcEnrPFFy6sUw+0DT/6wPGY1ugsl3Uq0DPfhvZ89NFHYRnnI/oLe3LATXvVzRBx6FRzUS97ksKFGi14X2l+Fd8EXLRTGjezkb5egc4ZGcbHVnV2OQ7K7o+nzrkQ/Qe+LPVkmZFX4Bv5UFfHkNIIA26k6fe3voDlU9fnxzQbXcb/27eZY+xrTXb9gJTPNzS63APyTlTpfI0qq5rzYvOEcmc0FObXy8JtPloumjBvh/RZWpiPlwsvzNMhHkvW/Rwj5v0Qzv4WlzlM5M0cJYtHPhZGHIw5nKRHOOvEI2/LJy4j6ZOXpWfzoAiz9KyMcb7eiEN+NnfKjDBLj/wwm2PKPsSxuVFV6VvZbZ3jidMYZOM4UuEpQ3d2rjiXeUc51CHnx597zjlx0Q3nyZ/3Vi3WH3mTjuXBusUjnDC28Tuuc9KweNbmMCu76c/icrzebH/KQTwrT5xPHE82MsZ5T4XHZj6QuNSVr1vMtGD1S/xUPPNtphnaAe2BcJaEYeQZl6Edq6spNI/5cGsTlMcfBxa3SdMwx29hdc+FrDPjHKfC61iZRrw/pK7Ml8ZaaUXHKY2k9rd84mtnq2bX59SxmeF742Nk3TTbzOeb2Xmqq2XitRJ/rBjnpGG9YcVtrLJmJxixxcIibkokqXDEjEBIg+0sWfeiKIvnnbo5XoRHA7C4iM/HpSyWXtxYWI+PFbHS0JrlbfGIY2mSh48XG9uIGzt+jDD29WWM41FewquEbw2fsrFuDdSf30E0jiMVXmacS9MERl2lzgN1EmvNn/d2jLytw4Pxm7rw8Qjz8XzelI8yxW2O9G2fMovTQDvN8pGNjPm6SZn5pSozP5DaFhtasXTxCym/2i3/4PMrM/PbqfC47N7ifcwfxu3Kx/dWp2yy5sa5TIXXsap6oC7rXFPr6jilEayda3czI3/SataWKEusc8s7jpPy+WaEYz68zFJ9HNlwDbf919iit/CYlblW8WN76idvNMOmjHRKKq9BRRoWowHpWAw60rAYdLyGezKHWXTOc889V/rPfN2EOVr5HfawubxCCCGEEOIm6jD3KbyctWHDhvCCQC/hxbWlejFACCGEEKIUTckQowppWIwGpGMx6EjDYtDRlAwhhBBCCCFaQB1mIYQQQgghKlCHWQghhBBCiAqGzWEWQgghhBBirBPPYdZLf2JUIQ2L0YB0LAYdaVgMOl7DGlIWQgghhBCiAnWYhRBCCCGEqEAdZiGEEEIIISpQh1kIIYQQQogKRqTD/Ouvv2Zr1qzJPvjggyKkc0hzxowZXU2zn1m2bFm2c+fOYk0IIYQQQowUbXeYv/jii/AGoTc6sc8//3zo0BrXrl3Ljh07lp07d64I6Zz3338/LFevXh2WQP533XVXQ94eOp3EowOagg442+JjYr2sY872kejIvvDCC9nbb79deWyifajfqrr85ptvwk2faWL+/PnZ4cOHi623iON4awfTIu2tVUzrVWZwfKntWB19o0vaPe2PffADZfsRznZLn2NMnUtRD84derTziQapT8/FixfDtjp1lKJuPnXxmmFZJ0279pT58GZYu/DHTnm2bt06pE3K469lovc088UpX7Nnz55i6y36yRcbHFudNtRuW7Mylpm1GWsDVSaG0/Zn5RDN4sWLsw0bNmRTpkwpQrPsxx9/zHbv3p3NnTs3O3XqVBHafWgkr7zySrZ+/foi5Gb5YdWqVdmBAwfC7xguGPPmzcuuXLmSLV26NDty5Eix5WYj/MMf/pAdPXo0bFuyZEm2cOHC7OTJk9nx48dDOMe6a9euYo+bkOeOHTuyjRs3FiG9g2Net27diOQ1qLSiYaDeufnavHlzWE/VJY5qzpw5QdMvvfRSNm7cuGzfvn3Zhx9+GLQea9AcEvrxtFpvXATQHJw4cSJbtGhR+F0X2ij6TbF3796w/OGHH8LS2jPH76EdVOXNOVywYEF2+fLl7K233sruu+++7NNPPw2/fVukQ0I4x/XAAw+Em2nO/5kzZ9o6xtFKXR2bRjjPa9euzX777bfsvffeC+fz7Nmz2ezZs0M86ujee+8Nv/FhkydPHqqjLVu2ZNu3bw/byqibTyvQIbhw4UJIF40xoMKgAHz//fehQ+QxrbGf9+F1sLYMvq3TdvHzhFOeb7/9NpybadOm9fRaNlrphS8GqyfqZtasWdnHH3/c974YLA3rXwB+GL95+vTpbOrUqSGsk7ZGh/ynn34q1hrhvJIu7b+Va8NYZpiG85UbZvnq0O9mlosmxGfpt+WVErbllTtsWzfs0KFDIf3z5883hBOWd2rCkjjxNiwXajC2s4y35Y0vhO/fv78h3G/PG3FDeCqsV0YZcued3Ca7adRHKjxlpmGr97K6zB3XjYkTJ964dOlS03B01Q09oG3SJg/KlWpnZs22eyNtf6x2LuJ4dS2/UCXLkApnHf8Qx+P8+fKMdatbF2jE+zLOJ34iDrf69X7RfHUclrK6+cRWpSnb5v2t+XavJTPzgfj5snyrjP2sTXm9EUb6cZj5hbLyyMqN85YKT5npAavyxaYPfEscTr2i0TgMffSTL061lZQvbqetNbO6Ok6VZywb5yJe78m4u404X79+PSyBnnr8iIU7HMJYEh4/Xmn2eJY7o1w8Q3dkMStXrhy6M+OO1eDOy0YPPIw8M9KSi7FhikcMIzDkaSMgHsocP8rzj5PsEQhl4nESvzHugglj5CN+hJR6FPjoo4+GkZU6j2ZEcyZNmhRGJXJnVFrvwHQiRsP8iBd1xNOKzz77rAjJujYSRdrkybLbvPvuu1nulLNnn322CMnCaFq7/OMf/whLP+pioz3xCHPudIY9pTHGjx9f/BJ1wA+gPz+Chk55EoW/w7c1A79WRbfyiUEraKGs3d1xxx3Fr1twrcBP//d///ewtlgHfDD+8//8n/9ThNQHXyF6R11f/Mknn4Ql1/kYfBkaRSNGv/litOfbkPVhGDmGXrQ12LZtW+jfNBsZT10bxC160mGm8jnpM2fOLELK4RE38XnEnd89hv18Z9fz9ddfZ9OnTy/WhmMO8bXXXgtL66TSWU49zrCG9fTTT4dlGQjWN0o4ePBg9vrrr2dvvPFGeFzzyCOPhMcfPh7QQeYYiUd5aABMBcEB8KjQwnEeNk/bsPP53XffhaXoDJwVnbpmF1+cZX7nXazdwi7q8SMw9AHsYzc/deefGTySQ5NlHUu7yTQDOqW2ntKdgbNFW5s2bWo4bqZGMOWEKROEU25uAC39KuwRt3fktDs6Y2UOnnJyI0ubwJn7i6CoxnwZ0+A8dvPxyy+/hCUXShtIQF+ce+oaLeC3qmglH+rTdGg3SraOpbSATigP5aJ8W7ZsGeanifPMM8+Ebe08Dqf94ZO5zpS1d84FHXLOi5WH6waPsVODM6J71PXF6Aef4uMxDQziG/9+88XcIPqpINYeHnzwwbBspa3VhTZJZ/3VV18tQtJQltS1QUTYUDOWrzYMP1cZQ/vE55Eew/dmPDLIO4TDHrURl+1+/3Yegfm0UuF5xQ+lw6OUvJENPTonPH60wT7N8sTscVB8bJaWpY3xm/C4jGV5sC/hfvoK5Y3LaObTlTUa5ycVXsfKzq3VO/VB3bNuj4b9Pqyjf7ZT1+iQdYzHXXG6KUMHpMF+rJMG67FuKANlMWO7PaK2Mlpcb7RXyhLrFTN92v4coz2C9G3Umz2y5HxQbspKeqwTTpqp/UgbIx75peKMVeO8pMK9UTfEpV45h9Sd1THhsW7QlmnWjLheCymrmw/xTIdokm22jnk/h5nGLW4qjvfhlp6PlzL2YV/SsDDy8m2deKRpZcE4hjrtVjbcOH+p8DqWqh+srN5NQ4PkizE0SXniNthKm65jaJ+ypLbFZnnU8QdjxTjfDesNK25jlZl4UkaF+/iEx2JOia8qPDafVlk4IkmJjPVYQOzTLE8M8RIvbgQ+z7JwyyOOUxVuDc6Hl+Unu2mpc1nXqs4tdW8dAAxHZw7V9sHR8Ntf8C1eql14M2dr63XbQzPtYlwk4vLGxvHZhSE26zQ3c6Ico8XFOA7SLNOxGemSb1m5xqpxPlLhKeO8WUcYf2cXWtZNF9SPbbPOAtuoJyxOr8zq5BMbYa0cB+UiTZ9eKo9muoqNduc7AqQX641tdi6s/VIe69DU6WDJGq2Vuvfm68esrN5Na7ZPv/tizLSOvv22VttamdFXqbNP1bVhLBvnJF7veEpGXhHhUYNZfvELj7Xs8cTtxB6j5GKrfIx3zz33hOXPP/8clmXYZ/F4w1yMLZYvXx4ezZnOeezmdcBjLB65+cfJrOfOL0wlqoI2w6Ozssd/nVI1P43ji98wNx5//PGwbDYNiGPknNj54VyRZtXUKuCckW/eMSl9P0BUg+Z4o53zzvlO6Se/EGZ33nln2GbTC/CJTCXj7Xse2zajTj6dQLlIE41a2uRj0zTamYrBI3GuR1VTMYBpdXYerP1SHqb38WiftiP6g7xzV/wajk1b6HdfzFQftJZ3aIOf9HSrrWnucnfp+hxmLn5UUD9c/HB4dcTGHCf4n//5n7Asg8+tIKp2HLcYfXz11VdhyaeNmsGng6pg/hhzLHnhhTlqXOgxm5PH0ube+XlzdIZ4EdbW43lzRrvz05jb3C60PToh999/f1inXMwjTJWPi5jNORSdY5+Msvcerl69mnzvg08kQtmnqJrh84nnMLMNbdo6ZnM2+Y0WUqAFygv2HgqfeUM3ZmgLs99lMO957ty54Tjj/YF5ovbbdG43E4a1FSu3uL1QP3RkfZ2bn7S5zFXcTl9Muelv0E4+//zzyhccPb6tNYM8NHe5u/Tkpb8nnngiXPy8WLoFDvBs8VZpN6ARMoLBC3iILAV3hIgPUd0uzGnbiLgYGXhRhBfgPH/5y1/CDZSNEOAg6QR4Z047oD1YxxH8xd5e5MBx8T1kM56OAEucOPAkhG+Dl1nqSUmzEQTKzctOno8++igsYyfNxSJ+cYYXY9jfdyrspdUnn3wyLO1LA/YyWAzfUaWjJFqDC5x/ex9NoSNG7e0COGHChODfvDatExDf9FGP3nfXzYencClNmtmXk8yHeX9L3txkWceVddrOihUrGtoFcTB+x08/KHesQ3y2xYsNrK2BjUz6LzSZzuO2K24fjz32WFjyRCAGXxMPZvWjLyZ9+zY0nWU/+m3UbWvgfXGMRpd7wH+i+Rn5asN8jSpjTgzxU3NjbJ5QPB/Gr5ftX5WuWS7YML/Hh/s8yox4fh4Uc54Is22kY2bh5Bvvg5Xl6cP5TVgcpyqcPH0ZbQ6T5tOVW+pc1jVfZ2amSeqDOWGYaSKef4buc8cTtJk7t7AfS8KweA4lcyPZP6Wp2EwfVe2hmdWZn0Y5rDwcE2ZljPezto2ZDjmu+LjZ19LzcwVZj/MpO5dj3TgfqXBvpg87n5x/6oH6iP1ESptWF8zVjNMkHuHUjYXVzacVI1/2pxzWVuqmSVm8f2R/wkkjDvdm7TnWtc1h9uVhvZNjHMvGOU6F1zFfP7GZv6Ce0Kj5qViv/eaLrTxWbtLyZnH5beVp1qaJh3l9ci7qlJX9iBfnL7tlnJuG9YYVt7HKzOmUVQiVGztiXyll+zdLF0NExPEi8XmUGfG8szWLL+BmrMeNMbayPH04vwmL41SFk6cvIw2t2cVgrFvqXNa1srrE0Bx6Jg7G75RGcWI4OnOOLFn3WrWLO+nG4d5MH1XtoZmRP2n4MnijTP4Yve650KDBuG1jHLddeDC7UMVxzDgmn0+z8zDWjPOSCk8Z55PzbeeTekjVdaqO2DfuPGDE8RdnrG4+dY180aZPk3Km4sdGXO8faSOUGz8Zh3uzawzHE4dbeZq1XVk94xymwutYqn7MfD2hn9T1uZ98se1bZT5+s7ZW5osxwjEf7o3zQfrSeNp8vbT919i3Gx6R+7/GHu2MxWNulUHSsBBlSMdi0JGGxaDjNdyTOcwjAR3Hd955p1gb/TC3jpcV9OcOQgghhBAjy8B2mG2UtewlvdEGL5jpLVYhhBBCiJFnYKdkCJFCGhajAelYDDrSsBh0Rs2UDCGEEEIIIXpPlv3/jdxi4OHqMPcAAAAASUVORK5CYII=)"
      ],
      "metadata": {
        "id": "TTITyFiqN0_Y"
      }
    },
    {
      "cell_type": "markdown",
      "source": [
        "![image.png](data:image/png;base64,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)"
      ],
      "metadata": {
        "id": "2plGiOCMN-SY"
      }
    },
    {
      "cell_type": "markdown",
      "source": [
        "![image.png](data:image/png;base64,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)"
      ],
      "metadata": {
        "id": "VaMaXZapOIWq"
      }
    },
    {
      "cell_type": "code",
      "source": [],
      "metadata": {
        "id": "xmb9gcruM8Kx"
      },
      "execution_count": null,
      "outputs": []
    }
  ]
}