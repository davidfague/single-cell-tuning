{
  "cells": [
    {
      "cell_type": "markdown",
      "metadata": {
        "colab_type": "text",
        "id": "view-in-github"
      },
      "source": [
        "<a href=\"https://colab.research.google.com/github/davidfague/single-cell-tuning/blob/main/run_download_and_tune_r_in_script.ipynb\" target=\"_parent\"><img src=\"https://colab.research.google.com/assets/colab-badge.svg\" alt=\"Open In Colab\"/></a>"
      ]
    },
    {
      "cell_type": "code",
      "execution_count": null,
      "metadata": {
        "colab": {
          "base_uri": "https://localhost:8080/"
        },
        "id": "iX5SidmLZHrZ",
        "outputId": "bdc8c427-1e16-4133-c4ca-732e11e00af6"
      },
      "outputs": [],
      "source": [
        "\n",
        "!git clone https://github.com/davidfague/single-cell-tuning.git"
      ]
    },
    {
      "cell_type": "code",
      "execution_count": null,
      "metadata": {
        "colab": {
          "base_uri": "https://localhost:8080/"
        },
        "id": "YNYGNAmHaZP9",
        "outputId": "069a8a41-3c3d-4e04-810f-99723bb70175"
      },
      "outputs": [],
      "source": [
        "!pip install --upgrade pip\n",
        "!pip install --quiet allensdk neuron"
      ]
    },
    {
      "cell_type": "code",
      "execution_count": null,
      "metadata": {
        "colab": {
          "base_uri": "https://localhost:8080/"
        },
        "id": "Uz6kU7FBaMKm",
        "outputId": "4ecba3c1-3613-4504-9e10-de34c213048f"
      },
      "outputs": [
        {
          "name": "stdout",
          "output_type": "stream",
          "text": [
            "getting cell 488683425\n",
            "Traceback (most recent call last):\n",
            "  File \"/home/drfrbc/single-cell-tuning/download_from_allen_and_tune_r_in.py\", line 66, in load_dictionary_from_json\n",
            "    with open(file_path, 'r') as file:\n",
            "FileNotFoundError: [Errno 2] No such file or directory: '/user_specifications.json'\n",
            "\n",
            "During handling of the above exception, another exception occurred:\n",
            "\n",
            "Traceback (most recent call last):\n",
            "  File \"/home/drfrbc/single-cell-tuning/download_from_allen_and_tune_r_in.py\", line 145, in <module>\n",
            "    user_specs_dict = load_dictionary_from_json(sys.argv[2])\n",
            "  File \"/home/drfrbc/single-cell-tuning/download_from_allen_and_tune_r_in.py\", line 75, in load_dictionary_from_json\n",
            "    raise FileNotFoundError(f\"File not found: {file_path}\")\n",
            "FileNotFoundError: File not found: /user_specifications.json\n"
          ]
        }
      ],
      "source": [
        "!python download_from_allen_and_tune_r_in.py 488683425 \"user_specifications.json\""
      ]
    },
    {
      "cell_type": "code",
      "execution_count": null,
      "metadata": {},
      "outputs": [],
      "source": []
    }
  ],
  "metadata": {
    "colab": {
      "authorship_tag": "ABX9TyP9N7rntCn0hn2OH1NZBtz0",
      "include_colab_link": true,
      "provenance": []
    },
    "kernelspec": {
      "display_name": "sim_env",
      "language": "python",
      "name": "python3"
    },
    "language_info": {
      "codemirror_mode": {
        "name": "ipython",
        "version": 3
      },
      "file_extension": ".py",
      "mimetype": "text/x-python",
      "name": "python",
      "nbconvert_exporter": "python",
      "pygments_lexer": "ipython3",
      "version": "3.10.14"
    }
  },
  "nbformat": 4,
  "nbformat_minor": 0
}
