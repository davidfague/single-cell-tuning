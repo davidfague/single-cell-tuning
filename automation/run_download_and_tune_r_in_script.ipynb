{
  "cells": [
    {
      "cell_type": "markdown",
      "metadata": {
        "colab_type": "text",
        "id": "view-in-github"
      },
      "source": [
        "<a href=\"https://colab.research.google.com/github/davidfague/single-cell-tuning/blob/main/run_download_and_tune_r_in_script.ipynb\" target=\"_parent\"><img src=\"https://colab.research.google.com/assets/colab-badge.svg\" alt=\"Open In Colab\"/></a>"
      ]
    },
    {
      "cell_type": "code",
      "execution_count": null,
      "metadata": {
        "colab": {
          "base_uri": "https://localhost:8080/"
        },
        "id": "iX5SidmLZHrZ",
        "outputId": "bdc8c427-1e16-4133-c4ca-732e11e00af6"
      },
      "outputs": [
        {
          "name": "stdout",
          "output_type": "stream",
          "text": [
            "Cloning into 'single-cell-tuning'...\n",
            "remote: Enumerating objects: 124, done.\u001b[K\n",
            "remote: Counting objects: 100% (124/124), done.\u001b[K\n",
            "remote: Compressing objects: 100% (111/111), done.\u001b[K\n",
            "remote: Total 124 (delta 63), reused 27 (delta 12), pack-reused 0 (from 0)\u001b[K\n",
            "Receiving objects: 100% (124/124), 565.01 KiB | 4.83 MiB/s, done.\n",
            "Resolving deltas: 100% (63/63), done.\n"
          ]
        }
      ],
      "source": [
        "!git clone https://github.com/davidfague/single-cell-tuning.git"
      ]
    },
    {
      "cell_type": "code",
      "execution_count": 2,
      "metadata": {
        "colab": {
          "base_uri": "https://localhost:8080/"
        },
        "id": "YNYGNAmHaZP9",
        "outputId": "069a8a41-3c3d-4e04-810f-99723bb70175"
      },
      "outputs": [
        {
          "name": "stdout",
          "output_type": "stream",
          "text": [
            "\u001b[33mWARNING: Ignoring invalid distribution -umpy (/home/drfrbc/miniconda3/envs/sim_env/lib/python3.10/site-packages)\u001b[0m\u001b[33m\n",
            "\u001b[0mRequirement already satisfied: pip in /home/drfrbc/miniconda3/envs/sim_env/lib/python3.10/site-packages (25.0.1)\n",
            "\u001b[33mWARNING: Ignoring invalid distribution -umpy (/home/drfrbc/miniconda3/envs/sim_env/lib/python3.10/site-packages)\u001b[0m\u001b[33m\n",
            "\u001b[0m\u001b[33mWARNING: Ignoring invalid distribution -umpy (/home/drfrbc/miniconda3/envs/sim_env/lib/python3.10/site-packages)\u001b[0m\u001b[33m\n",
            "\u001b[0m\u001b[33mWARNING: Ignoring invalid distribution -umpy (/home/drfrbc/miniconda3/envs/sim_env/lib/python3.10/site-packages)\u001b[0m\u001b[33m\n",
            "\u001b[0m\u001b[33mWARNING: Ignoring invalid distribution -umpy (/home/drfrbc/miniconda3/envs/sim_env/lib/python3.10/site-packages)\u001b[0m\u001b[33m\n",
            "\u001b[0m\u001b[33mWARNING: Ignoring invalid distribution -umpy (/home/drfrbc/miniconda3/envs/sim_env/lib/python3.10/site-packages)\u001b[0m\u001b[33m\n",
            "\u001b[0m"
          ]
        }
      ],
      "source": [
        "!pip install --upgrade pip\n",
        "!pip install --quiet allensdk neuron"
      ]
    },
    {
      "cell_type": "code",
      "execution_count": 7,
      "metadata": {},
      "outputs": [
        {
          "name": "stdout",
          "output_type": "stream",
          "text": [
            "/home/drfrbc/single-cell-tuning/automation\n"
          ]
        }
      ],
      "source": [
        "%cd single-cell-tuning/automation"
      ]
    },
    {
      "cell_type": "code",
      "execution_count": 1,
      "metadata": {
        "colab": {
          "base_uri": "https://localhost:8080/"
        },
        "id": "Uz6kU7FBaMKm",
        "outputId": "4ecba3c1-3613-4504-9e10-de34c213048f"
      },
      "outputs": [
        {
          "name": "stdout",
          "output_type": "stream",
          "text": [
            "getting cell 488683425\n",
            "2025-02-25 09:19:43,940 allensdk.api.api.retrieve_file_over_http INFO     Downloading URL: http://api.brain-map.org/api/v2/well_known_file_download/527109147\n",
            "2025-02-25 09:19:44,331 allensdk.api.api.retrieve_file_over_http INFO     Downloading URL: http://api.brain-map.org/api/v2/well_known_file_download/527109161\n",
            "2025-02-25 09:19:44,497 allensdk.api.api.retrieve_file_over_http INFO     Downloading URL: http://api.brain-map.org/api/v2/well_known_file_download/395337019\n",
            "2025-02-25 09:19:44,656 allensdk.api.api.retrieve_file_over_http INFO     Downloading URL: http://api.brain-map.org/api/v2/well_known_file_download/395337225\n",
            "2025-02-25 09:19:44,828 allensdk.api.api.retrieve_file_over_http INFO     Downloading URL: http://api.brain-map.org/api/v2/well_known_file_download/395337054\n",
            "2025-02-25 09:19:45,023 allensdk.api.api.retrieve_file_over_http INFO     Downloading URL: http://api.brain-map.org/api/v2/well_known_file_download/395337070\n",
            "2025-02-25 09:19:45,206 allensdk.api.api.retrieve_file_over_http INFO     Downloading URL: http://api.brain-map.org/api/v2/well_known_file_download/491113425\n",
            "2025-02-25 09:19:45,393 allensdk.api.api.retrieve_file_over_http INFO     Downloading URL: http://api.brain-map.org/api/v2/well_known_file_download/395337062\n",
            "2025-02-25 09:19:45,571 allensdk.api.api.retrieve_file_over_http INFO     Downloading URL: http://api.brain-map.org/api/v2/well_known_file_download/395337293\n",
            "2025-02-25 09:19:45,717 allensdk.api.api.retrieve_file_over_http INFO     Downloading URL: http://api.brain-map.org/api/v2/well_known_file_download/395337007\n",
            "2025-02-25 09:19:45,914 allensdk.api.api.retrieve_file_over_http INFO     Downloading URL: http://api.brain-map.org/api/v2/well_known_file_download/464138096\n",
            "2025-02-25 09:19:46,090 allensdk.api.api.retrieve_file_over_http INFO     Downloading URL: http://api.brain-map.org/api/v2/well_known_file_download/395337066\n",
            "2025-02-25 09:19:46,265 allensdk.api.api.retrieve_file_over_http INFO     Downloading URL: http://api.brain-map.org/api/v2/well_known_file_download/395337015\n",
            "2025-02-25 09:19:46,413 allensdk.api.api.retrieve_file_over_http INFO     Downloading URL: http://api.brain-map.org/api/v2/well_known_file_download/395337011\n",
            "2025-02-25 09:19:46,538 allensdk.api.api.retrieve_file_over_http INFO     Downloading URL: http://api.brain-map.org/api/v2/well_known_file_download/395337046\n",
            "2025-02-25 09:19:46,714 allensdk.api.api.retrieve_file_over_http INFO     Downloading URL: http://api.brain-map.org/api/v2/well_known_file_download/395337042\n",
            "2025-02-25 09:19:46,870 allensdk.api.api.retrieve_file_over_http INFO     Downloading URL: http://api.brain-map.org/api/v2/well_known_file_download/395337050\n",
            "2025-02-25 09:19:47,014 allensdk.api.api.retrieve_file_over_http INFO     Downloading URL: http://api.brain-map.org/api/v2/well_known_file_download/395337003\n",
            "2025-02-25 09:19:47,143 allensdk.api.api.retrieve_file_over_http INFO     Downloading URL: http://api.brain-map.org/api/v2/well_known_file_download/569956135\n",
            "compiling modfiles\n",
            "/home/drfrbc/miniconda3/envs/sim_env/bin/nrnivmodl:10: DeprecationWarning: pkg_resources is deprecated as an API. See https://setuptools.pypa.io/en/latest/pkg_resources.html\n",
            "  from pkg_resources import working_set\n",
            "/home/drfrbc/single-cell-tuning/automation\n",
            "Mod files: \"modfiles/modfiles/CaDynamics.mod\" \"modfiles/modfiles/Ca_HVA.mod\" \"modfiles/modfiles/Ca_LVA.mod\" \"modfiles/modfiles/Ih.mod\" \"modfiles/modfiles/Im.mod\" \"modfiles/modfiles/Im_v2.mod\" \"modfiles/modfiles/Kd.mod\" \"modfiles/modfiles/K_P.mod\" \"modfiles/modfiles/K_T.mod\" \"modfiles/modfiles/Kv2like.mod\" \"modfiles/modfiles/Kv3_1.mod\" \"modfiles/modfiles/Nap.mod\" \"modfiles/modfiles/NaTa.mod\" \"modfiles/modfiles/NaTs.mod\" \"modfiles/modfiles/NaV.mod\" \"modfiles/modfiles/SK.mod\"\n",
            "\n",
            "Creating 'x86_64' directory for .o files.\n",
            "\n",
            " -> \u001b[32mCompiling\u001b[0m mod_func.cpp\n",
            " -> \u001b[32mNMODL\u001b[0m ../modfiles/CaDynamics.mod\n",
            " -> \u001b[32mNMODL\u001b[0m ../modfiles/Ca_HVA.mod\n",
            " -> \u001b[32mNMODL\u001b[0m ../modfiles/Ca_LVA.mod\n",
            "Translating CaDynamics.mod into /home/drfrbc/single-cell-tuning/automation/x86_64/CaDynamics.c\n",
            "Translating Ca_HVA.mod into /home/drfrbc/single-cell-tuning/automation/x86_64/Ca_HVA.c\n",
            "Translating Ca_LVA.mod into /home/drfrbc/single-cell-tuning/automation/x86_64/Ca_LVA.c\n",
            "Thread Safe\n",
            "Thread Safe\n",
            "Thread Safe\n",
            " -> \u001b[32mNMODL\u001b[0m ../modfiles/Ih.mod\n",
            " -> \u001b[32mNMODL\u001b[0m ../modfiles/Im.mod\n",
            " -> \u001b[32mNMODL\u001b[0m ../modfiles/Im_v2.mod\n",
            "Translating Ih.mod into /home/drfrbc/single-cell-tuning/automation/x86_64/Ih.c\n",
            "Thread Safe\n",
            "Translating Im_v2.mod into /home/drfrbc/single-cell-tuning/automation/x86_64/Im_v2.c\n",
            "Translating Im.mod into /home/drfrbc/single-cell-tuning/automation/x86_64/Im.c\n",
            "Thread Safe\n",
            "Thread Safe\n",
            " -> \u001b[32mNMODL\u001b[0m ../modfiles/Kd.mod\n",
            " -> \u001b[32mNMODL\u001b[0m ../modfiles/K_P.mod\n",
            " -> \u001b[32mNMODL\u001b[0m ../modfiles/K_T.mod\n",
            "Translating Kd.mod into /home/drfrbc/single-cell-tuning/automation/x86_64/Kd.c\n",
            "Thread Safe\n",
            "Translating K_T.mod into /home/drfrbc/single-cell-tuning/automation/x86_64/K_T.c\n",
            "Translating K_P.mod into /home/drfrbc/single-cell-tuning/automation/x86_64/K_P.c\n",
            "Thread Safe\n",
            "Thread Safe\n",
            " -> \u001b[32mNMODL\u001b[0m ../modfiles/Kv2like.mod\n",
            " -> \u001b[32mNMODL\u001b[0m ../modfiles/Kv3_1.mod\n",
            " -> \u001b[32mNMODL\u001b[0m ../modfiles/Nap.mod\n",
            "Translating Kv2like.mod into /home/drfrbc/single-cell-tuning/automation/x86_64/Kv2like.c\n",
            "Thread Safe\n",
            "Translating Kv3_1.mod into /home/drfrbc/single-cell-tuning/automation/x86_64/Kv3_1.c\n",
            "Translating Nap.mod into /home/drfrbc/single-cell-tuning/automation/x86_64/Nap.c\n",
            "Thread Safe\n",
            "Thread Safe\n",
            " -> \u001b[32mNMODL\u001b[0m ../modfiles/NaTa.mod\n",
            " -> \u001b[32mNMODL\u001b[0m ../modfiles/NaTs.mod\n",
            " -> \u001b[32mNMODL\u001b[0m ../modfiles/NaV.mod\n",
            "Translating NaTa.mod into /home/drfrbc/single-cell-tuning/automation/x86_64/NaTa.c\n",
            "Thread Safe\n",
            "Translating NaTs.mod into /home/drfrbc/single-cell-tuning/automation/x86_64/NaTs.c\n",
            "Translating NaV.mod into /home/drfrbc/single-cell-tuning/automation/x86_64/NaV.c\n",
            "Thread Safe\n",
            " -> \u001b[32mNMODL\u001b[0m ../modfiles/SK.mod\n",
            "NEURON's CVode method ignores conservation\n",
            "Notice: LINEAR is not thread safe.\n",
            " -> \u001b[32mCompiling\u001b[0m CaDynamics.c\n",
            "Translating SK.mod into /home/drfrbc/single-cell-tuning/automation/x86_64/SK.c\n",
            " -> \u001b[32mCompiling\u001b[0m Ca_HVA.c\n",
            "Thread Safe\n",
            " -> \u001b[32mCompiling\u001b[0m Ca_LVA.c\n",
            " -> \u001b[32mCompiling\u001b[0m Ih.c\n",
            " -> \u001b[32mCompiling\u001b[0m Im.c\n",
            " -> \u001b[32mCompiling\u001b[0m Im_v2.c\n",
            " -> \u001b[32mCompiling\u001b[0m Kd.c\n",
            " -> \u001b[32mCompiling\u001b[0m K_P.c\n",
            " -> \u001b[32mCompiling\u001b[0m K_T.c\n",
            " -> \u001b[32mCompiling\u001b[0m Kv2like.c\n",
            " -> \u001b[32mCompiling\u001b[0m Kv3_1.c\n",
            " -> \u001b[32mCompiling\u001b[0m Nap.c\n",
            " -> \u001b[32mCompiling\u001b[0m NaTa.c\n",
            " -> \u001b[32mCompiling\u001b[0m NaTs.c\n",
            " -> \u001b[32mCompiling\u001b[0m NaV.c\n",
            " -> \u001b[32mCompiling\u001b[0m SK.c\n",
            " => \u001b[32mLINKING\u001b[0m shared library ./libnrnmech.so\n",
            " => \u001b[32mLINKING\u001b[0m executable ./special LDFLAGS are:    -pthread\n",
            "Successfully created x86_64/special\n",
            "Warning: no DISPLAY environment variable.\n",
            "--No graphics will be displayed.\n",
            "original_soma_g_pas 0.00011917 S / cm2\n",
            "V_rest [ -80.5 ] mV occurs at [ 1e+02 ] ms\n",
            "V_trough [ -1.65e+02 ] mV occurs at [ 9e+02 ] ms\n",
            "r_in = [ -80.5 - -1.65e+02 ] mV / [ 0 - -1.0 ] nA  = 84.6 MOhm\n",
            "soma_surface_area 6.08e-06 cm^2\n",
            "gbar_leak_estimate 0.001645 S / cm2\n",
            " updating entry: {'section': 'soma', 'name': 'g_pas', 'value': 0.000119174, 'mechanism': ''}\n",
            "updating soma g_pas from 0.000119 to 0.00164\n",
            "V_rest [ -78.8 ] mV occurs at [ 1e+02 ] ms\n",
            "V_trough [ -1.26e+02 ] mV occurs at [ 9e+02 ] ms\n",
            "r_in = [ -78.8 - -1.26e+02 ] mV / [ 0 - -1.0 ] nA  = 46.9 MOhm\n",
            "desired_r_in 100 MOhm\n",
            "original_r_in 84.65 MOhm\n",
            "original percent error -15.35%\n",
            "new_r_in 46.897 MOhm\n",
            "percent error -53.103%\n"
          ]
        }
      ],
      "source": [
        "!python download_from_allen_and_tune_r_in.py 488683425 \"user_specifications.json\""
      ]
    },
    {
      "cell_type": "markdown",
      "metadata": {},
      "source": [
        "View voltage_trace_Rin.png"
      ]
    }
  ],
  "metadata": {
    "colab": {
      "authorship_tag": "ABX9TyP9N7rntCn0hn2OH1NZBtz0",
      "include_colab_link": true,
      "provenance": []
    },
    "kernelspec": {
      "display_name": "sim_env",
      "language": "python",
      "name": "python3"
    },
    "language_info": {
      "codemirror_mode": {
        "name": "ipython",
        "version": 3
      },
      "file_extension": ".py",
      "mimetype": "text/x-python",
      "name": "python",
      "nbconvert_exporter": "python",
      "pygments_lexer": "ipython3",
      "version": "3.10.14"
    }
  },
  "nbformat": 4,
  "nbformat_minor": 0
}
